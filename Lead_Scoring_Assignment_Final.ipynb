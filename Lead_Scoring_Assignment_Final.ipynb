{
 "cells": [
  {
   "cell_type": "markdown",
   "id": "a78fa04c",
   "metadata": {},
   "source": [
    "# Lead Score Assignment"
   ]
  },
  {
   "cell_type": "code",
   "execution_count": 1,
   "id": "af1e8513",
   "metadata": {
    "scrolled": true
   },
   "outputs": [],
   "source": [
    "# importing useful libraries\n",
    "import numpy as np\n",
    "import pandas as pd\n",
    "import matplotlib.pyplot as plt\n",
    "import seaborn as sns\n",
    "\n",
    "import warnings\n",
    "warnings.filterwarnings('ignore')\n",
    "\n",
    "\n",
    "\n",
    "# for modelling\n",
    "from sklearn.model_selection import train_test_split\n",
    "from sklearn.preprocessing import StandardScaler\n",
    "import statsmodels.api as sm\n",
    "from sklearn.linear_model import LogisticRegression\n",
    "from sklearn.feature_selection import RFE\n",
    "\n",
    "from sklearn import metrics\n",
    "\n",
    "from statsmodels.stats.outliers_influence import variance_inflation_factor"
   ]
  },
  {
   "cell_type": "markdown",
   "id": "e0a6e08b",
   "metadata": {},
   "source": [
    "## 1. Data Understanding"
   ]
  },
  {
   "cell_type": "code",
   "execution_count": 2,
   "id": "f318a1f0",
   "metadata": {
    "scrolled": true
   },
   "outputs": [],
   "source": [
    "#loading the data\n",
    "leads_data = pd.read_csv('Leads.csv')"
   ]
  },
  {
   "cell_type": "code",
   "execution_count": 3,
   "id": "816e7e09",
   "metadata": {
    "scrolled": true
   },
   "outputs": [
    {
     "data": {
      "text/plain": [
       "(9240, 37)"
      ]
     },
     "execution_count": 3,
     "metadata": {},
     "output_type": "execute_result"
    }
   ],
   "source": [
    "#checking the shape\n",
    "leads_data.shape"
   ]
  },
  {
   "cell_type": "markdown",
   "id": "bcf054ff",
   "metadata": {},
   "source": [
    "- Data has 37 columns and 9240 rows"
   ]
  },
  {
   "cell_type": "markdown",
   "id": "f4a82b0b",
   "metadata": {},
   "source": [
    "### Looking at the statistical summary of numerical variables"
   ]
  },
  {
   "cell_type": "code",
   "execution_count": 4,
   "id": "bf097eac",
   "metadata": {
    "scrolled": true
   },
   "outputs": [
    {
     "data": {
      "text/html": [
       "<div>\n",
       "<style scoped>\n",
       "    .dataframe tbody tr th:only-of-type {\n",
       "        vertical-align: middle;\n",
       "    }\n",
       "\n",
       "    .dataframe tbody tr th {\n",
       "        vertical-align: top;\n",
       "    }\n",
       "\n",
       "    .dataframe thead th {\n",
       "        text-align: right;\n",
       "    }\n",
       "</style>\n",
       "<table border=\"1\" class=\"dataframe\">\n",
       "  <thead>\n",
       "    <tr style=\"text-align: right;\">\n",
       "      <th></th>\n",
       "      <th>Prospect ID</th>\n",
       "      <th>Lead Number</th>\n",
       "      <th>Lead Origin</th>\n",
       "      <th>Lead Source</th>\n",
       "      <th>Do Not Email</th>\n",
       "      <th>Do Not Call</th>\n",
       "      <th>Converted</th>\n",
       "      <th>TotalVisits</th>\n",
       "      <th>Total Time Spent on Website</th>\n",
       "      <th>Page Views Per Visit</th>\n",
       "      <th>...</th>\n",
       "      <th>Get updates on DM Content</th>\n",
       "      <th>Lead Profile</th>\n",
       "      <th>City</th>\n",
       "      <th>Asymmetrique Activity Index</th>\n",
       "      <th>Asymmetrique Profile Index</th>\n",
       "      <th>Asymmetrique Activity Score</th>\n",
       "      <th>Asymmetrique Profile Score</th>\n",
       "      <th>I agree to pay the amount through cheque</th>\n",
       "      <th>A free copy of Mastering The Interview</th>\n",
       "      <th>Last Notable Activity</th>\n",
       "    </tr>\n",
       "  </thead>\n",
       "  <tbody>\n",
       "    <tr>\n",
       "      <th>0</th>\n",
       "      <td>7927b2df-8bba-4d29-b9a2-b6e0beafe620</td>\n",
       "      <td>660737</td>\n",
       "      <td>API</td>\n",
       "      <td>Olark Chat</td>\n",
       "      <td>No</td>\n",
       "      <td>No</td>\n",
       "      <td>0</td>\n",
       "      <td>0.0</td>\n",
       "      <td>0</td>\n",
       "      <td>0.0</td>\n",
       "      <td>...</td>\n",
       "      <td>No</td>\n",
       "      <td>Select</td>\n",
       "      <td>Select</td>\n",
       "      <td>02.Medium</td>\n",
       "      <td>02.Medium</td>\n",
       "      <td>15.0</td>\n",
       "      <td>15.0</td>\n",
       "      <td>No</td>\n",
       "      <td>No</td>\n",
       "      <td>Modified</td>\n",
       "    </tr>\n",
       "    <tr>\n",
       "      <th>1</th>\n",
       "      <td>2a272436-5132-4136-86fa-dcc88c88f482</td>\n",
       "      <td>660728</td>\n",
       "      <td>API</td>\n",
       "      <td>Organic Search</td>\n",
       "      <td>No</td>\n",
       "      <td>No</td>\n",
       "      <td>0</td>\n",
       "      <td>5.0</td>\n",
       "      <td>674</td>\n",
       "      <td>2.5</td>\n",
       "      <td>...</td>\n",
       "      <td>No</td>\n",
       "      <td>Select</td>\n",
       "      <td>Select</td>\n",
       "      <td>02.Medium</td>\n",
       "      <td>02.Medium</td>\n",
       "      <td>15.0</td>\n",
       "      <td>15.0</td>\n",
       "      <td>No</td>\n",
       "      <td>No</td>\n",
       "      <td>Email Opened</td>\n",
       "    </tr>\n",
       "    <tr>\n",
       "      <th>2</th>\n",
       "      <td>8cc8c611-a219-4f35-ad23-fdfd2656bd8a</td>\n",
       "      <td>660727</td>\n",
       "      <td>Landing Page Submission</td>\n",
       "      <td>Direct Traffic</td>\n",
       "      <td>No</td>\n",
       "      <td>No</td>\n",
       "      <td>1</td>\n",
       "      <td>2.0</td>\n",
       "      <td>1532</td>\n",
       "      <td>2.0</td>\n",
       "      <td>...</td>\n",
       "      <td>No</td>\n",
       "      <td>Potential Lead</td>\n",
       "      <td>Mumbai</td>\n",
       "      <td>02.Medium</td>\n",
       "      <td>01.High</td>\n",
       "      <td>14.0</td>\n",
       "      <td>20.0</td>\n",
       "      <td>No</td>\n",
       "      <td>Yes</td>\n",
       "      <td>Email Opened</td>\n",
       "    </tr>\n",
       "    <tr>\n",
       "      <th>3</th>\n",
       "      <td>0cc2df48-7cf4-4e39-9de9-19797f9b38cc</td>\n",
       "      <td>660719</td>\n",
       "      <td>Landing Page Submission</td>\n",
       "      <td>Direct Traffic</td>\n",
       "      <td>No</td>\n",
       "      <td>No</td>\n",
       "      <td>0</td>\n",
       "      <td>1.0</td>\n",
       "      <td>305</td>\n",
       "      <td>1.0</td>\n",
       "      <td>...</td>\n",
       "      <td>No</td>\n",
       "      <td>Select</td>\n",
       "      <td>Mumbai</td>\n",
       "      <td>02.Medium</td>\n",
       "      <td>01.High</td>\n",
       "      <td>13.0</td>\n",
       "      <td>17.0</td>\n",
       "      <td>No</td>\n",
       "      <td>No</td>\n",
       "      <td>Modified</td>\n",
       "    </tr>\n",
       "    <tr>\n",
       "      <th>4</th>\n",
       "      <td>3256f628-e534-4826-9d63-4a8b88782852</td>\n",
       "      <td>660681</td>\n",
       "      <td>Landing Page Submission</td>\n",
       "      <td>Google</td>\n",
       "      <td>No</td>\n",
       "      <td>No</td>\n",
       "      <td>1</td>\n",
       "      <td>2.0</td>\n",
       "      <td>1428</td>\n",
       "      <td>1.0</td>\n",
       "      <td>...</td>\n",
       "      <td>No</td>\n",
       "      <td>Select</td>\n",
       "      <td>Mumbai</td>\n",
       "      <td>02.Medium</td>\n",
       "      <td>01.High</td>\n",
       "      <td>15.0</td>\n",
       "      <td>18.0</td>\n",
       "      <td>No</td>\n",
       "      <td>No</td>\n",
       "      <td>Modified</td>\n",
       "    </tr>\n",
       "  </tbody>\n",
       "</table>\n",
       "<p>5 rows × 37 columns</p>\n",
       "</div>"
      ],
      "text/plain": [
       "                            Prospect ID  Lead Number              Lead Origin  \\\n",
       "0  7927b2df-8bba-4d29-b9a2-b6e0beafe620       660737                      API   \n",
       "1  2a272436-5132-4136-86fa-dcc88c88f482       660728                      API   \n",
       "2  8cc8c611-a219-4f35-ad23-fdfd2656bd8a       660727  Landing Page Submission   \n",
       "3  0cc2df48-7cf4-4e39-9de9-19797f9b38cc       660719  Landing Page Submission   \n",
       "4  3256f628-e534-4826-9d63-4a8b88782852       660681  Landing Page Submission   \n",
       "\n",
       "      Lead Source Do Not Email Do Not Call  Converted  TotalVisits  \\\n",
       "0      Olark Chat           No          No          0          0.0   \n",
       "1  Organic Search           No          No          0          5.0   \n",
       "2  Direct Traffic           No          No          1          2.0   \n",
       "3  Direct Traffic           No          No          0          1.0   \n",
       "4          Google           No          No          1          2.0   \n",
       "\n",
       "   Total Time Spent on Website  Page Views Per Visit  ...  \\\n",
       "0                            0                   0.0  ...   \n",
       "1                          674                   2.5  ...   \n",
       "2                         1532                   2.0  ...   \n",
       "3                          305                   1.0  ...   \n",
       "4                         1428                   1.0  ...   \n",
       "\n",
       "  Get updates on DM Content    Lead Profile    City  \\\n",
       "0                        No          Select  Select   \n",
       "1                        No          Select  Select   \n",
       "2                        No  Potential Lead  Mumbai   \n",
       "3                        No          Select  Mumbai   \n",
       "4                        No          Select  Mumbai   \n",
       "\n",
       "  Asymmetrique Activity Index Asymmetrique Profile Index  \\\n",
       "0                   02.Medium                  02.Medium   \n",
       "1                   02.Medium                  02.Medium   \n",
       "2                   02.Medium                    01.High   \n",
       "3                   02.Medium                    01.High   \n",
       "4                   02.Medium                    01.High   \n",
       "\n",
       "  Asymmetrique Activity Score Asymmetrique Profile Score  \\\n",
       "0                        15.0                       15.0   \n",
       "1                        15.0                       15.0   \n",
       "2                        14.0                       20.0   \n",
       "3                        13.0                       17.0   \n",
       "4                        15.0                       18.0   \n",
       "\n",
       "  I agree to pay the amount through cheque  \\\n",
       "0                                       No   \n",
       "1                                       No   \n",
       "2                                       No   \n",
       "3                                       No   \n",
       "4                                       No   \n",
       "\n",
       "  A free copy of Mastering The Interview Last Notable Activity  \n",
       "0                                     No              Modified  \n",
       "1                                     No          Email Opened  \n",
       "2                                    Yes          Email Opened  \n",
       "3                                     No              Modified  \n",
       "4                                     No              Modified  \n",
       "\n",
       "[5 rows x 37 columns]"
      ]
     },
     "execution_count": 4,
     "metadata": {},
     "output_type": "execute_result"
    }
   ],
   "source": [
    "leads_data.head()"
   ]
  },
  {
   "cell_type": "code",
   "execution_count": 5,
   "id": "06e10883",
   "metadata": {
    "scrolled": true
   },
   "outputs": [
    {
     "data": {
      "text/html": [
       "<div>\n",
       "<style scoped>\n",
       "    .dataframe tbody tr th:only-of-type {\n",
       "        vertical-align: middle;\n",
       "    }\n",
       "\n",
       "    .dataframe tbody tr th {\n",
       "        vertical-align: top;\n",
       "    }\n",
       "\n",
       "    .dataframe thead th {\n",
       "        text-align: right;\n",
       "    }\n",
       "</style>\n",
       "<table border=\"1\" class=\"dataframe\">\n",
       "  <thead>\n",
       "    <tr style=\"text-align: right;\">\n",
       "      <th></th>\n",
       "      <th>count</th>\n",
       "      <th>mean</th>\n",
       "      <th>std</th>\n",
       "      <th>min</th>\n",
       "      <th>25%</th>\n",
       "      <th>50%</th>\n",
       "      <th>75%</th>\n",
       "      <th>max</th>\n",
       "    </tr>\n",
       "  </thead>\n",
       "  <tbody>\n",
       "    <tr>\n",
       "      <th>Lead Number</th>\n",
       "      <td>9240.0</td>\n",
       "      <td>617188.435606</td>\n",
       "      <td>23405.995698</td>\n",
       "      <td>579533.0</td>\n",
       "      <td>596484.5</td>\n",
       "      <td>615479.0</td>\n",
       "      <td>637387.25</td>\n",
       "      <td>660737.0</td>\n",
       "    </tr>\n",
       "    <tr>\n",
       "      <th>Converted</th>\n",
       "      <td>9240.0</td>\n",
       "      <td>0.385390</td>\n",
       "      <td>0.486714</td>\n",
       "      <td>0.0</td>\n",
       "      <td>0.0</td>\n",
       "      <td>0.0</td>\n",
       "      <td>1.00</td>\n",
       "      <td>1.0</td>\n",
       "    </tr>\n",
       "    <tr>\n",
       "      <th>TotalVisits</th>\n",
       "      <td>9103.0</td>\n",
       "      <td>3.445238</td>\n",
       "      <td>4.854853</td>\n",
       "      <td>0.0</td>\n",
       "      <td>1.0</td>\n",
       "      <td>3.0</td>\n",
       "      <td>5.00</td>\n",
       "      <td>251.0</td>\n",
       "    </tr>\n",
       "    <tr>\n",
       "      <th>Total Time Spent on Website</th>\n",
       "      <td>9240.0</td>\n",
       "      <td>487.698268</td>\n",
       "      <td>548.021466</td>\n",
       "      <td>0.0</td>\n",
       "      <td>12.0</td>\n",
       "      <td>248.0</td>\n",
       "      <td>936.00</td>\n",
       "      <td>2272.0</td>\n",
       "    </tr>\n",
       "    <tr>\n",
       "      <th>Page Views Per Visit</th>\n",
       "      <td>9103.0</td>\n",
       "      <td>2.362820</td>\n",
       "      <td>2.161418</td>\n",
       "      <td>0.0</td>\n",
       "      <td>1.0</td>\n",
       "      <td>2.0</td>\n",
       "      <td>3.00</td>\n",
       "      <td>55.0</td>\n",
       "    </tr>\n",
       "    <tr>\n",
       "      <th>Asymmetrique Activity Score</th>\n",
       "      <td>5022.0</td>\n",
       "      <td>14.306252</td>\n",
       "      <td>1.386694</td>\n",
       "      <td>7.0</td>\n",
       "      <td>14.0</td>\n",
       "      <td>14.0</td>\n",
       "      <td>15.00</td>\n",
       "      <td>18.0</td>\n",
       "    </tr>\n",
       "    <tr>\n",
       "      <th>Asymmetrique Profile Score</th>\n",
       "      <td>5022.0</td>\n",
       "      <td>16.344883</td>\n",
       "      <td>1.811395</td>\n",
       "      <td>11.0</td>\n",
       "      <td>15.0</td>\n",
       "      <td>16.0</td>\n",
       "      <td>18.00</td>\n",
       "      <td>20.0</td>\n",
       "    </tr>\n",
       "  </tbody>\n",
       "</table>\n",
       "</div>"
      ],
      "text/plain": [
       "                              count           mean           std       min  \\\n",
       "Lead Number                  9240.0  617188.435606  23405.995698  579533.0   \n",
       "Converted                    9240.0       0.385390      0.486714       0.0   \n",
       "TotalVisits                  9103.0       3.445238      4.854853       0.0   \n",
       "Total Time Spent on Website  9240.0     487.698268    548.021466       0.0   \n",
       "Page Views Per Visit         9103.0       2.362820      2.161418       0.0   \n",
       "Asymmetrique Activity Score  5022.0      14.306252      1.386694       7.0   \n",
       "Asymmetrique Profile Score   5022.0      16.344883      1.811395      11.0   \n",
       "\n",
       "                                  25%       50%        75%       max  \n",
       "Lead Number                  596484.5  615479.0  637387.25  660737.0  \n",
       "Converted                         0.0       0.0       1.00       1.0  \n",
       "TotalVisits                       1.0       3.0       5.00     251.0  \n",
       "Total Time Spent on Website      12.0     248.0     936.00    2272.0  \n",
       "Page Views Per Visit              1.0       2.0       3.00      55.0  \n",
       "Asymmetrique Activity Score      14.0      14.0      15.00      18.0  \n",
       "Asymmetrique Profile Score       15.0      16.0      18.00      20.0  "
      ]
     },
     "execution_count": 5,
     "metadata": {},
     "output_type": "execute_result"
    }
   ],
   "source": [
    "leads_data.describe().transpose()"
   ]
  },
  {
   "cell_type": "code",
   "execution_count": 6,
   "id": "5a5921b1",
   "metadata": {
    "scrolled": true
   },
   "outputs": [
    {
     "data": {
      "text/plain": [
       "4218"
      ]
     },
     "execution_count": 6,
     "metadata": {},
     "output_type": "execute_result"
    }
   ],
   "source": [
    "leads_data['Asymmetrique Profile Score'].isnull().sum()"
   ]
  },
  {
   "cell_type": "code",
   "execution_count": 7,
   "id": "1b9a9758",
   "metadata": {
    "scrolled": true
   },
   "outputs": [
    {
     "data": {
      "text/plain": [
       "4218"
      ]
     },
     "execution_count": 7,
     "metadata": {},
     "output_type": "execute_result"
    }
   ],
   "source": [
    "leads_data['Asymmetrique Activity Score'].isnull().sum()"
   ]
  },
  {
   "cell_type": "markdown",
   "id": "42cdb42b",
   "metadata": {},
   "source": [
    "**Observation**\n",
    "- There are many missing values in Asymmetrique Profile Score and Asymmetrique Activity Score column\n",
    "- There are outliers in TotalVisits, Total Time Spent on Website and Page Views Per Visit"
   ]
  },
  {
   "cell_type": "markdown",
   "id": "4bf534d2",
   "metadata": {},
   "source": [
    "### Checking the data types"
   ]
  },
  {
   "cell_type": "code",
   "execution_count": 8,
   "id": "290436b5",
   "metadata": {
    "scrolled": true
   },
   "outputs": [
    {
     "name": "stdout",
     "output_type": "stream",
     "text": [
      "<class 'pandas.core.frame.DataFrame'>\n",
      "RangeIndex: 9240 entries, 0 to 9239\n",
      "Data columns (total 37 columns):\n",
      " #   Column                                         Non-Null Count  Dtype  \n",
      "---  ------                                         --------------  -----  \n",
      " 0   Prospect ID                                    9240 non-null   object \n",
      " 1   Lead Number                                    9240 non-null   int64  \n",
      " 2   Lead Origin                                    9240 non-null   object \n",
      " 3   Lead Source                                    9204 non-null   object \n",
      " 4   Do Not Email                                   9240 non-null   object \n",
      " 5   Do Not Call                                    9240 non-null   object \n",
      " 6   Converted                                      9240 non-null   int64  \n",
      " 7   TotalVisits                                    9103 non-null   float64\n",
      " 8   Total Time Spent on Website                    9240 non-null   int64  \n",
      " 9   Page Views Per Visit                           9103 non-null   float64\n",
      " 10  Last Activity                                  9137 non-null   object \n",
      " 11  Country                                        6779 non-null   object \n",
      " 12  Specialization                                 7802 non-null   object \n",
      " 13  How did you hear about X Education             7033 non-null   object \n",
      " 14  What is your current occupation                6550 non-null   object \n",
      " 15  What matters most to you in choosing a course  6531 non-null   object \n",
      " 16  Search                                         9240 non-null   object \n",
      " 17  Magazine                                       9240 non-null   object \n",
      " 18  Newspaper Article                              9240 non-null   object \n",
      " 19  X Education Forums                             9240 non-null   object \n",
      " 20  Newspaper                                      9240 non-null   object \n",
      " 21  Digital Advertisement                          9240 non-null   object \n",
      " 22  Through Recommendations                        9240 non-null   object \n",
      " 23  Receive More Updates About Our Courses         9240 non-null   object \n",
      " 24  Tags                                           5887 non-null   object \n",
      " 25  Lead Quality                                   4473 non-null   object \n",
      " 26  Update me on Supply Chain Content              9240 non-null   object \n",
      " 27  Get updates on DM Content                      9240 non-null   object \n",
      " 28  Lead Profile                                   6531 non-null   object \n",
      " 29  City                                           7820 non-null   object \n",
      " 30  Asymmetrique Activity Index                    5022 non-null   object \n",
      " 31  Asymmetrique Profile Index                     5022 non-null   object \n",
      " 32  Asymmetrique Activity Score                    5022 non-null   float64\n",
      " 33  Asymmetrique Profile Score                     5022 non-null   float64\n",
      " 34  I agree to pay the amount through cheque       9240 non-null   object \n",
      " 35  A free copy of Mastering The Interview         9240 non-null   object \n",
      " 36  Last Notable Activity                          9240 non-null   object \n",
      "dtypes: float64(4), int64(3), object(30)\n",
      "memory usage: 2.6+ MB\n"
     ]
    }
   ],
   "source": [
    "leads_data.info()"
   ]
  },
  {
   "cell_type": "markdown",
   "id": "8e46e726",
   "metadata": {},
   "source": [
    "####  Categorical columns"
   ]
  },
  {
   "cell_type": "code",
   "execution_count": 9,
   "id": "c08b3a78",
   "metadata": {
    "scrolled": true
   },
   "outputs": [
    {
     "data": {
      "text/plain": [
       "Index(['Prospect ID', 'Lead Origin', 'Lead Source', 'Do Not Email',\n",
       "       'Do Not Call', 'Last Activity', 'Country', 'Specialization',\n",
       "       'How did you hear about X Education', 'What is your current occupation',\n",
       "       'What matters most to you in choosing a course', 'Search', 'Magazine',\n",
       "       'Newspaper Article', 'X Education Forums', 'Newspaper',\n",
       "       'Digital Advertisement', 'Through Recommendations',\n",
       "       'Receive More Updates About Our Courses', 'Tags', 'Lead Quality',\n",
       "       'Update me on Supply Chain Content', 'Get updates on DM Content',\n",
       "       'Lead Profile', 'City', 'Asymmetrique Activity Index',\n",
       "       'Asymmetrique Profile Index',\n",
       "       'I agree to pay the amount through cheque',\n",
       "       'A free copy of Mastering The Interview', 'Last Notable Activity'],\n",
       "      dtype='object')"
      ]
     },
     "execution_count": 9,
     "metadata": {},
     "output_type": "execute_result"
    }
   ],
   "source": [
    "cat_cols=leads_data.select_dtypes(object)\n",
    "cat_cols.columns"
   ]
  },
  {
   "cell_type": "markdown",
   "id": "8fe16b49",
   "metadata": {},
   "source": [
    "#### Numerical Columns"
   ]
  },
  {
   "cell_type": "code",
   "execution_count": 10,
   "id": "2615eb49",
   "metadata": {
    "scrolled": true
   },
   "outputs": [
    {
     "name": "stdout",
     "output_type": "stream",
     "text": [
      "Index(['Lead Number', 'Converted', 'TotalVisits',\n",
      "       'Total Time Spent on Website', 'Page Views Per Visit',\n",
      "       'Asymmetrique Activity Score', 'Asymmetrique Profile Score'],\n",
      "      dtype='object')\n",
      "(9240, 7)\n"
     ]
    }
   ],
   "source": [
    "num_cols=leads_data.select_dtypes(['int64','float64'])\n",
    "print(num_cols.columns)\n",
    "print(num_cols.shape)"
   ]
  },
  {
   "cell_type": "markdown",
   "id": "f3632af3",
   "metadata": {},
   "source": [
    "- we see there are a total of 9 numerical columns"
   ]
  },
  {
   "cell_type": "markdown",
   "id": "9e157d71",
   "metadata": {},
   "source": [
    "#### Binary categorical Columns"
   ]
  },
  {
   "cell_type": "code",
   "execution_count": 11,
   "id": "a7b434d4",
   "metadata": {
    "scrolled": true
   },
   "outputs": [],
   "source": [
    "bin_cat_cols=['I agree to pay the amount through cheque',\n",
    "'A free copy of Mastering The Interview',\n",
    "'Update me on Supply Chain Content',\n",
    "'Receive More Updates About Our Courses',\n",
    "'Through Recommendations',\n",
    "'Digital Advertisement',\n",
    "'Newspaper',\n",
    "'Newspaper Article',\n",
    "'X Education Forums',\n",
    "'Magazine',\n",
    "'Search',\n",
    "'Do Not Email',\n",
    "'Do Not Call',\n",
    "'Get updates on DM Content']"
   ]
  },
  {
   "cell_type": "code",
   "execution_count": 12,
   "id": "97a65804",
   "metadata": {
    "scrolled": true
   },
   "outputs": [
    {
     "name": "stdout",
     "output_type": "stream",
     "text": [
      "No    9240\n",
      "Name: I agree to pay the amount through cheque, dtype: int64\n",
      "\n",
      "\n",
      "No     6352\n",
      "Yes    2888\n",
      "Name: A free copy of Mastering The Interview, dtype: int64\n",
      "\n",
      "\n",
      "No    9240\n",
      "Name: Update me on Supply Chain Content, dtype: int64\n",
      "\n",
      "\n",
      "No    9240\n",
      "Name: Receive More Updates About Our Courses, dtype: int64\n",
      "\n",
      "\n",
      "No     9233\n",
      "Yes       7\n",
      "Name: Through Recommendations, dtype: int64\n",
      "\n",
      "\n",
      "No     9236\n",
      "Yes       4\n",
      "Name: Digital Advertisement, dtype: int64\n",
      "\n",
      "\n",
      "No     9239\n",
      "Yes       1\n",
      "Name: Newspaper, dtype: int64\n",
      "\n",
      "\n",
      "No     9238\n",
      "Yes       2\n",
      "Name: Newspaper Article, dtype: int64\n",
      "\n",
      "\n",
      "No     9239\n",
      "Yes       1\n",
      "Name: X Education Forums, dtype: int64\n",
      "\n",
      "\n",
      "No    9240\n",
      "Name: Magazine, dtype: int64\n",
      "\n",
      "\n",
      "No     9226\n",
      "Yes      14\n",
      "Name: Search, dtype: int64\n",
      "\n",
      "\n",
      "No     8506\n",
      "Yes     734\n",
      "Name: Do Not Email, dtype: int64\n",
      "\n",
      "\n",
      "No     9238\n",
      "Yes       2\n",
      "Name: Do Not Call, dtype: int64\n",
      "\n",
      "\n",
      "No    9240\n",
      "Name: Get updates on DM Content, dtype: int64\n",
      "\n",
      "\n"
     ]
    }
   ],
   "source": [
    "for i in bin_cat_cols:\n",
    "    print(leads_data[i].value_counts())\n",
    "    print('\\n')"
   ]
  },
  {
   "cell_type": "markdown",
   "id": "e397bc87",
   "metadata": {},
   "source": [
    "**Observation**\n",
    "- There are 7 numerical columns and 30 categorical columns\n",
    "- Also we have binary columns:( from data dictionary)\n",
    "    - I agree to pay the amount through cheque\n",
    "    - a free copy of Mastering The Interview\n",
    "    - Update me on Supply Chain Content\n",
    "    - Receive More Updates About Our Courses\n",
    "    - Through Recommendations\n",
    "    - Digital Advertisement\n",
    "    - Newspaper\n",
    "    - Newspaper Article\n",
    "    - X Education Forums\n",
    "    - Magazine\n",
    "    - Search\n",
    "    - Do Not Email\n",
    "    - Do Not Call\n",
    "    - Converted (target variable)\n",
    "- We need to convert yes/no to 1/0 respectively in binary categorical columns\n",
    "- Also we see the columns with single value i.e No. They are :\n",
    "    - Receive More Updates About Our Courses(only no)\n",
    "    - Update me on Supply Chain Content\n",
    "    - I agree to pay the amount through cheque\n",
    "    - Magazine\n",
    "    - Get updates on DM Content\n",
    "**We can drop these columns as these won't add information to our model. Ths will be done in data cleaning step**\n",
    "    "
   ]
  },
  {
   "cell_type": "markdown",
   "id": "1f71023f",
   "metadata": {},
   "source": [
    "### Checking null values"
   ]
  },
  {
   "cell_type": "code",
   "execution_count": 13,
   "id": "c91f7188",
   "metadata": {
    "scrolled": true
   },
   "outputs": [
    {
     "data": {
      "text/plain": [
       "Prospect ID                                       0.000000\n",
       "Lead Number                                       0.000000\n",
       "Lead Origin                                       0.000000\n",
       "Lead Source                                       0.389610\n",
       "Do Not Email                                      0.000000\n",
       "Do Not Call                                       0.000000\n",
       "Converted                                         0.000000\n",
       "TotalVisits                                       1.482684\n",
       "Total Time Spent on Website                       0.000000\n",
       "Page Views Per Visit                              1.482684\n",
       "Last Activity                                     1.114719\n",
       "Country                                          26.634199\n",
       "Specialization                                   15.562771\n",
       "How did you hear about X Education               23.885281\n",
       "What is your current occupation                  29.112554\n",
       "What matters most to you in choosing a course    29.318182\n",
       "Search                                            0.000000\n",
       "Magazine                                          0.000000\n",
       "Newspaper Article                                 0.000000\n",
       "X Education Forums                                0.000000\n",
       "Newspaper                                         0.000000\n",
       "Digital Advertisement                             0.000000\n",
       "Through Recommendations                           0.000000\n",
       "Receive More Updates About Our Courses            0.000000\n",
       "Tags                                             36.287879\n",
       "Lead Quality                                     51.590909\n",
       "Update me on Supply Chain Content                 0.000000\n",
       "Get updates on DM Content                         0.000000\n",
       "Lead Profile                                     29.318182\n",
       "City                                             15.367965\n",
       "Asymmetrique Activity Index                      45.649351\n",
       "Asymmetrique Profile Index                       45.649351\n",
       "Asymmetrique Activity Score                      45.649351\n",
       "Asymmetrique Profile Score                       45.649351\n",
       "I agree to pay the amount through cheque          0.000000\n",
       "A free copy of Mastering The Interview            0.000000\n",
       "Last Notable Activity                             0.000000\n",
       "dtype: float64"
      ]
     },
     "execution_count": 13,
     "metadata": {},
     "output_type": "execute_result"
    }
   ],
   "source": [
    "leads_data.isnull().sum()/len(leads_data) *100"
   ]
  },
  {
   "cell_type": "markdown",
   "id": "057d76e4",
   "metadata": {},
   "source": [
    "- There are columns with greater than 35% of null values. \n",
    "- We need to drop the columns with high percentage values.\n",
    "    - The columns Asymmetrique Activity Index,Asymmetrique Profile Index,Asymmetrique Activity Score,Asymmetrique Profile Score, need to be deleted because they have more than 40% of its values as null.\n",
    "    \n"
   ]
  },
  {
   "cell_type": "markdown",
   "id": "2e38e648",
   "metadata": {},
   "source": [
    "### Let's Clean the data!"
   ]
  },
  {
   "cell_type": "markdown",
   "id": "f9f434db",
   "metadata": {},
   "source": [
    "## 2. Data Cleaning"
   ]
  },
  {
   "cell_type": "markdown",
   "id": "3e8a539a",
   "metadata": {},
   "source": [
    "\n",
    "### Redundant Variables"
   ]
  },
  {
   "cell_type": "markdown",
   "id": "5b67fcaa",
   "metadata": {},
   "source": [
    "**Redundant Columns:**\n",
    "1. Columns not giving any useful insights: \n",
    "- Prospect ID                                  \n",
    "- Lead Number\n",
    "\n",
    "2. Columns with only single value (i.e No)\n",
    "- Receive More Updates About Our Courses(only no)\n",
    "- Update me on Supply Chain Content\n",
    "- I agree to pay the amount through cheque\n",
    "- Magazine\n",
    "- Get updates on DM Content"
   ]
  },
  {
   "cell_type": "code",
   "execution_count": 14,
   "id": "939e06e0",
   "metadata": {
    "scrolled": true
   },
   "outputs": [],
   "source": [
    "leads_data.drop(['Prospect ID','Lead Number','Receive More Updates About Our Courses',\n",
    "              'Update me on Supply Chain Content', 'I agree to pay the amount through cheque','Get updates on DM Content','Magazine'\n",
    "              ],axis=1,inplace=True)"
   ]
  },
  {
   "cell_type": "code",
   "execution_count": 15,
   "id": "9041fa3a",
   "metadata": {
    "scrolled": true
   },
   "outputs": [],
   "source": [
    "#updating binary columns\n",
    "bin_cat_cols=[\n",
    "'A free copy of Mastering The Interview',\n",
    "'Through Recommendations',\n",
    "'Digital Advertisement',\n",
    "'Newspaper',\n",
    "'Newspaper Article',\n",
    "'X Education Forums',\n",
    "'Search',\n",
    "'Do Not Email',\n",
    "'Do Not Call']"
   ]
  },
  {
   "cell_type": "code",
   "execution_count": 16,
   "id": "682a31f9",
   "metadata": {
    "scrolled": true
   },
   "outputs": [
    {
     "data": {
      "text/plain": [
       "Index(['Lead Origin', 'Lead Source', 'Do Not Email', 'Do Not Call',\n",
       "       'Converted', 'TotalVisits', 'Total Time Spent on Website',\n",
       "       'Page Views Per Visit', 'Last Activity', 'Country', 'Specialization',\n",
       "       'How did you hear about X Education', 'What is your current occupation',\n",
       "       'What matters most to you in choosing a course', 'Search',\n",
       "       'Newspaper Article', 'X Education Forums', 'Newspaper',\n",
       "       'Digital Advertisement', 'Through Recommendations', 'Tags',\n",
       "       'Lead Quality', 'Lead Profile', 'City', 'Asymmetrique Activity Index',\n",
       "       'Asymmetrique Profile Index', 'Asymmetrique Activity Score',\n",
       "       'Asymmetrique Profile Score', 'A free copy of Mastering The Interview',\n",
       "       'Last Notable Activity'],\n",
       "      dtype='object')"
      ]
     },
     "execution_count": 16,
     "metadata": {},
     "output_type": "execute_result"
    }
   ],
   "source": [
    "leads_data.columns"
   ]
  },
  {
   "cell_type": "markdown",
   "id": "d03d6c0a",
   "metadata": {},
   "source": [
    "### Handling Missing Values"
   ]
  },
  {
   "cell_type": "code",
   "execution_count": 17,
   "id": "fd90d253",
   "metadata": {
    "scrolled": true
   },
   "outputs": [
    {
     "data": {
      "text/plain": [
       "Lead Origin                                       0.000000\n",
       "Lead Source                                       0.389610\n",
       "Do Not Email                                      0.000000\n",
       "Do Not Call                                       0.000000\n",
       "Converted                                         0.000000\n",
       "TotalVisits                                       1.482684\n",
       "Total Time Spent on Website                       0.000000\n",
       "Page Views Per Visit                              1.482684\n",
       "Last Activity                                     1.114719\n",
       "Country                                          26.634199\n",
       "Specialization                                   15.562771\n",
       "How did you hear about X Education               23.885281\n",
       "What is your current occupation                  29.112554\n",
       "What matters most to you in choosing a course    29.318182\n",
       "Search                                            0.000000\n",
       "Newspaper Article                                 0.000000\n",
       "X Education Forums                                0.000000\n",
       "Newspaper                                         0.000000\n",
       "Digital Advertisement                             0.000000\n",
       "Through Recommendations                           0.000000\n",
       "Tags                                             36.287879\n",
       "Lead Quality                                     51.590909\n",
       "Lead Profile                                     29.318182\n",
       "City                                             15.367965\n",
       "Asymmetrique Activity Index                      45.649351\n",
       "Asymmetrique Profile Index                       45.649351\n",
       "Asymmetrique Activity Score                      45.649351\n",
       "Asymmetrique Profile Score                       45.649351\n",
       "A free copy of Mastering The Interview            0.000000\n",
       "Last Notable Activity                             0.000000\n",
       "dtype: float64"
      ]
     },
     "execution_count": 17,
     "metadata": {},
     "output_type": "execute_result"
    }
   ],
   "source": [
    "# checking the new updated data frame for null values \n",
    "leads_data.isnull().sum()/len(leads_data)*100"
   ]
  },
  {
   "cell_type": "markdown",
   "id": "1b56dc94",
   "metadata": {},
   "source": [
    "- Dropping columns having null values >40%"
   ]
  },
  {
   "cell_type": "code",
   "execution_count": 18,
   "id": "dd74a3f4",
   "metadata": {
    "scrolled": true
   },
   "outputs": [],
   "source": [
    "leads_data.drop(['Asymmetrique Activity Index',\n",
    " 'Asymmetrique Profile Index',\n",
    " 'Asymmetrique Activity Score',\n",
    " 'Asymmetrique Profile Score','Lead Quality'],axis=1,inplace=True)"
   ]
  },
  {
   "cell_type": "code",
   "execution_count": 19,
   "id": "371f679d",
   "metadata": {
    "scrolled": true
   },
   "outputs": [
    {
     "data": {
      "text/plain": [
       "Lead Origin                                       0.000000\n",
       "Lead Source                                       0.389610\n",
       "Do Not Email                                      0.000000\n",
       "Do Not Call                                       0.000000\n",
       "Converted                                         0.000000\n",
       "TotalVisits                                       1.482684\n",
       "Total Time Spent on Website                       0.000000\n",
       "Page Views Per Visit                              1.482684\n",
       "Last Activity                                     1.114719\n",
       "Country                                          26.634199\n",
       "Specialization                                   15.562771\n",
       "How did you hear about X Education               23.885281\n",
       "What is your current occupation                  29.112554\n",
       "What matters most to you in choosing a course    29.318182\n",
       "Search                                            0.000000\n",
       "Newspaper Article                                 0.000000\n",
       "X Education Forums                                0.000000\n",
       "Newspaper                                         0.000000\n",
       "Digital Advertisement                             0.000000\n",
       "Through Recommendations                           0.000000\n",
       "Tags                                             36.287879\n",
       "Lead Profile                                     29.318182\n",
       "City                                             15.367965\n",
       "A free copy of Mastering The Interview            0.000000\n",
       "Last Notable Activity                             0.000000\n",
       "dtype: float64"
      ]
     },
     "execution_count": 19,
     "metadata": {},
     "output_type": "execute_result"
    }
   ],
   "source": [
    "# checking the new updated data frame for null values \n",
    "leads_data.isnull().sum()/len(leads_data)*100"
   ]
  },
  {
   "cell_type": "markdown",
   "id": "df25568c",
   "metadata": {},
   "source": [
    "#### Columns having >25% null values\n",
    "- Tags\n",
    "- Lead Profile\n",
    "- What is your current occupation                \n",
    "- What matters most to you in choosing a course\n",
    "- Country"
   ]
  },
  {
   "cell_type": "code",
   "execution_count": 20,
   "id": "6dd87aac",
   "metadata": {
    "scrolled": true
   },
   "outputs": [
    {
     "data": {
      "text/plain": [
       "Will revert after reading the email                  35.196195\n",
       "Ringing                                              20.434856\n",
       "Interested in other courses                           8.714116\n",
       "Already a student                                     7.898760\n",
       "Closed by Horizzon                                    6.081196\n",
       "switched off                                          4.076779\n",
       "Busy                                                  3.159504\n",
       "Lost to EINS                                          2.972652\n",
       "Not doing further education                           2.463054\n",
       "Interested  in full time MBA                          1.987430\n",
       "Graduation in progress                                1.885510\n",
       "invalid number                                        1.409886\n",
       "Diploma holder (Not Eligible)                         1.070155\n",
       "wrong number given                                    0.798369\n",
       "opp hangup                                            0.560557\n",
       "number not provided                                   0.458638\n",
       "in touch with EINS                                    0.203839\n",
       "Lost to Others                                        0.118906\n",
       "Still Thinking                                        0.101919\n",
       "Want to take admission but has financial problems     0.101919\n",
       "In confusion whether part time or DLP                 0.084933\n",
       "Interested in Next batch                              0.084933\n",
       "Lateral student                                       0.050960\n",
       "Shall take in the next coming month                   0.033973\n",
       "University not recognized                             0.033973\n",
       "Recognition issue (DEC approval)                      0.016987\n",
       "Name: Tags, dtype: float64"
      ]
     },
     "execution_count": 20,
     "metadata": {},
     "output_type": "execute_result"
    }
   ],
   "source": [
    "leads_data['Tags'].value_counts(normalize=True)*100"
   ]
  },
  {
   "cell_type": "code",
   "execution_count": 21,
   "id": "1e406b6a",
   "metadata": {
    "scrolled": true
   },
   "outputs": [],
   "source": [
    "# maximum tags are 'Will revert after reading the email ' hence converting null to this will have no after effect.\n",
    "leads_data['Tags'] = leads_data['Tags'].replace(np.nan,'Will revert after reading the email')"
   ]
  },
  {
   "cell_type": "code",
   "execution_count": 22,
   "id": "3ff9cf6b",
   "metadata": {
    "scrolled": true
   },
   "outputs": [
    {
     "data": {
      "text/plain": [
       "Lead Origin                                       0.000000\n",
       "Lead Source                                       0.389610\n",
       "Do Not Email                                      0.000000\n",
       "Do Not Call                                       0.000000\n",
       "Converted                                         0.000000\n",
       "TotalVisits                                       1.482684\n",
       "Total Time Spent on Website                       0.000000\n",
       "Page Views Per Visit                              1.482684\n",
       "Last Activity                                     1.114719\n",
       "Country                                          26.634199\n",
       "Specialization                                   15.562771\n",
       "How did you hear about X Education               23.885281\n",
       "What is your current occupation                  29.112554\n",
       "What matters most to you in choosing a course    29.318182\n",
       "Search                                            0.000000\n",
       "Newspaper Article                                 0.000000\n",
       "X Education Forums                                0.000000\n",
       "Newspaper                                         0.000000\n",
       "Digital Advertisement                             0.000000\n",
       "Through Recommendations                           0.000000\n",
       "Tags                                              0.000000\n",
       "Lead Profile                                     29.318182\n",
       "City                                             15.367965\n",
       "A free copy of Mastering The Interview            0.000000\n",
       "Last Notable Activity                             0.000000\n",
       "dtype: float64"
      ]
     },
     "execution_count": 22,
     "metadata": {},
     "output_type": "execute_result"
    }
   ],
   "source": [
    "# new updated null value in the features\n",
    "leads_data.isnull().sum()/len(leads_data)*100"
   ]
  },
  {
   "cell_type": "code",
   "execution_count": 23,
   "id": "8e6a9b88",
   "metadata": {
    "scrolled": true
   },
   "outputs": [
    {
     "data": {
      "text/plain": [
       "Select                         0.634819\n",
       "Potential Lead                 0.246976\n",
       "Other Leads                    0.074567\n",
       "Student of SomeSchool          0.036901\n",
       "Lateral Student                0.003675\n",
       "Dual Specialization Student    0.003062\n",
       "Name: Lead Profile, dtype: float64"
      ]
     },
     "execution_count": 23,
     "metadata": {},
     "output_type": "execute_result"
    }
   ],
   "source": [
    "leads_data['Lead Profile'].value_counts(normalize=True)"
   ]
  },
  {
   "cell_type": "code",
   "execution_count": 24,
   "id": "949afb12",
   "metadata": {
    "scrolled": true
   },
   "outputs": [],
   "source": [
    "leads_data['Lead Profile'] = leads_data['Lead Profile'].replace('Select',np.nan)"
   ]
  },
  {
   "cell_type": "code",
   "execution_count": 25,
   "id": "e6d92c2a",
   "metadata": {
    "scrolled": true
   },
   "outputs": [
    {
     "data": {
      "text/plain": [
       "Potential Lead                 0.676310\n",
       "Other Leads                    0.204193\n",
       "Student of SomeSchool          0.101048\n",
       "Lateral Student                0.010063\n",
       "Dual Specialization Student    0.008386\n",
       "Name: Lead Profile, dtype: float64"
      ]
     },
     "execution_count": 25,
     "metadata": {},
     "output_type": "execute_result"
    }
   ],
   "source": [
    "leads_data['Lead Profile'].value_counts(normalize=True)"
   ]
  },
  {
   "cell_type": "code",
   "execution_count": 26,
   "id": "d7e5cbf9",
   "metadata": {
    "scrolled": true
   },
   "outputs": [],
   "source": [
    "# maximum are Potential lead so it is better to convert the null values to Unknown as it it create biasedness in the feature\n",
    "\n",
    "leads_data['Lead Profile'] = leads_data['Lead Profile'].replace(np.nan,'Unknown')"
   ]
  },
  {
   "cell_type": "code",
   "execution_count": 27,
   "id": "c21df9e1",
   "metadata": {
    "scrolled": true
   },
   "outputs": [
    {
     "data": {
      "text/plain": [
       "Lead Origin                                       0.000000\n",
       "Lead Source                                       0.389610\n",
       "Do Not Email                                      0.000000\n",
       "Do Not Call                                       0.000000\n",
       "Converted                                         0.000000\n",
       "TotalVisits                                       1.482684\n",
       "Total Time Spent on Website                       0.000000\n",
       "Page Views Per Visit                              1.482684\n",
       "Last Activity                                     1.114719\n",
       "Country                                          26.634199\n",
       "Specialization                                   15.562771\n",
       "How did you hear about X Education               23.885281\n",
       "What is your current occupation                  29.112554\n",
       "What matters most to you in choosing a course    29.318182\n",
       "Search                                            0.000000\n",
       "Newspaper Article                                 0.000000\n",
       "X Education Forums                                0.000000\n",
       "Newspaper                                         0.000000\n",
       "Digital Advertisement                             0.000000\n",
       "Through Recommendations                           0.000000\n",
       "Tags                                              0.000000\n",
       "Lead Profile                                      0.000000\n",
       "City                                             15.367965\n",
       "A free copy of Mastering The Interview            0.000000\n",
       "Last Notable Activity                             0.000000\n",
       "dtype: float64"
      ]
     },
     "execution_count": 27,
     "metadata": {},
     "output_type": "execute_result"
    }
   ],
   "source": [
    "# revising the null list in the updated data frame\n",
    "leads_data.isnull().sum()/len(leads_data)*100\n"
   ]
  },
  {
   "cell_type": "code",
   "execution_count": 28,
   "id": "623af65d",
   "metadata": {
    "scrolled": true
   },
   "outputs": [
    {
     "data": {
      "text/plain": [
       "Unemployed              0.854962\n",
       "Working Professional    0.107786\n",
       "Student                 0.032061\n",
       "Other                   0.002443\n",
       "Housewife               0.001527\n",
       "Businessman             0.001221\n",
       "Name: What is your current occupation, dtype: float64"
      ]
     },
     "execution_count": 28,
     "metadata": {},
     "output_type": "execute_result"
    }
   ],
   "source": [
    "leads_data['What is your current occupation'].value_counts(normalize=True)"
   ]
  },
  {
   "cell_type": "code",
   "execution_count": 29,
   "id": "cd9a7b9f",
   "metadata": {
    "scrolled": true
   },
   "outputs": [],
   "source": [
    "# converting the nan values to other will be very much benificial\n",
    "leads_data['What is your current occupation'] = leads_data['What is your current occupation'].replace(np.nan,'Other')"
   ]
  },
  {
   "cell_type": "code",
   "execution_count": 30,
   "id": "b4ee9515",
   "metadata": {
    "scrolled": true
   },
   "outputs": [
    {
     "data": {
      "text/plain": [
       "Better Career Prospects      0.999541\n",
       "Flexibility & Convenience    0.000306\n",
       "Other                        0.000153\n",
       "Name: What matters most to you in choosing a course, dtype: float64"
      ]
     },
     "execution_count": 30,
     "metadata": {},
     "output_type": "execute_result"
    }
   ],
   "source": [
    "leads_data['What matters most to you in choosing a course'].value_counts(normalize=True)"
   ]
  },
  {
   "cell_type": "code",
   "execution_count": 31,
   "id": "eb7b11b9",
   "metadata": {
    "scrolled": true
   },
   "outputs": [],
   "source": [
    "# similarly for this feature also converting the nan values to Other\n",
    "leads_data['What matters most to you in choosing a course'] = leads_data['What matters most to you in choosing a course'].replace(np.nan,'Other')"
   ]
  },
  {
   "cell_type": "code",
   "execution_count": 32,
   "id": "7bc270bd",
   "metadata": {
    "scrolled": true
   },
   "outputs": [
    {
     "data": {
      "text/plain": [
       "Lead Origin                                       0.000000\n",
       "Lead Source                                       0.389610\n",
       "Do Not Email                                      0.000000\n",
       "Do Not Call                                       0.000000\n",
       "Converted                                         0.000000\n",
       "TotalVisits                                       1.482684\n",
       "Total Time Spent on Website                       0.000000\n",
       "Page Views Per Visit                              1.482684\n",
       "Last Activity                                     1.114719\n",
       "Country                                          26.634199\n",
       "Specialization                                   15.562771\n",
       "How did you hear about X Education               23.885281\n",
       "What is your current occupation                   0.000000\n",
       "What matters most to you in choosing a course     0.000000\n",
       "Search                                            0.000000\n",
       "Newspaper Article                                 0.000000\n",
       "X Education Forums                                0.000000\n",
       "Newspaper                                         0.000000\n",
       "Digital Advertisement                             0.000000\n",
       "Through Recommendations                           0.000000\n",
       "Tags                                              0.000000\n",
       "Lead Profile                                      0.000000\n",
       "City                                             15.367965\n",
       "A free copy of Mastering The Interview            0.000000\n",
       "Last Notable Activity                             0.000000\n",
       "dtype: float64"
      ]
     },
     "execution_count": 32,
     "metadata": {},
     "output_type": "execute_result"
    }
   ],
   "source": [
    "# revising the null list in the updated data frame\n",
    "leads_data.isnull().sum()/len(leads_data)*100"
   ]
  },
  {
   "cell_type": "code",
   "execution_count": 33,
   "id": "0469e3f9",
   "metadata": {
    "scrolled": true
   },
   "outputs": [
    {
     "data": {
      "text/plain": [
       "India                   6492\n",
       "United States             69\n",
       "United Arab Emirates      53\n",
       "Singapore                 24\n",
       "Saudi Arabia              21\n",
       "United Kingdom            15\n",
       "Australia                 13\n",
       "Qatar                     10\n",
       "Hong Kong                  7\n",
       "Bahrain                    7\n",
       "Oman                       6\n",
       "France                     6\n",
       "unknown                    5\n",
       "South Africa               4\n",
       "Nigeria                    4\n",
       "Germany                    4\n",
       "Kuwait                     4\n",
       "Canada                     4\n",
       "Sweden                     3\n",
       "China                      2\n",
       "Asia/Pacific Region        2\n",
       "Uganda                     2\n",
       "Bangladesh                 2\n",
       "Italy                      2\n",
       "Belgium                    2\n",
       "Netherlands                2\n",
       "Ghana                      2\n",
       "Philippines                2\n",
       "Russia                     1\n",
       "Switzerland                1\n",
       "Vietnam                    1\n",
       "Denmark                    1\n",
       "Tanzania                   1\n",
       "Liberia                    1\n",
       "Malaysia                   1\n",
       "Kenya                      1\n",
       "Sri Lanka                  1\n",
       "Indonesia                  1\n",
       "Name: Country, dtype: int64"
      ]
     },
     "execution_count": 33,
     "metadata": {},
     "output_type": "execute_result"
    }
   ],
   "source": [
    "leads_data['Country'].value_counts()"
   ]
  },
  {
   "cell_type": "code",
   "execution_count": 34,
   "id": "e843c4bd",
   "metadata": {
    "scrolled": true
   },
   "outputs": [],
   "source": [
    "leads_data['Country'] = leads_data['Country'].replace(np.nan,'India')"
   ]
  },
  {
   "cell_type": "markdown",
   "id": "e131e105",
   "metadata": {},
   "source": [
    "#### Columns having >15% null values\n",
    "- How did you hear about X Education\n",
    "- Specialization\n",
    "- City"
   ]
  },
  {
   "cell_type": "code",
   "execution_count": 35,
   "id": "0e4e6442",
   "metadata": {
    "scrolled": true
   },
   "outputs": [
    {
     "data": {
      "text/plain": [
       "Select                   5043\n",
       "Online Search             808\n",
       "Word Of Mouth             348\n",
       "Student of SomeSchool     310\n",
       "Other                     186\n",
       "Multiple Sources          152\n",
       "Advertisements             70\n",
       "Social Media               67\n",
       "Email                      26\n",
       "SMS                        23\n",
       "Name: How did you hear about X Education, dtype: int64"
      ]
     },
     "execution_count": 35,
     "metadata": {},
     "output_type": "execute_result"
    }
   ],
   "source": [
    "leads_data['How did you hear about X Education'].value_counts()"
   ]
  },
  {
   "cell_type": "code",
   "execution_count": 36,
   "id": "454725af",
   "metadata": {
    "scrolled": true
   },
   "outputs": [],
   "source": [
    "# As the Select variable denotes a sense of undecided factor from the point view of the customer hence these can be changed to NaN\n",
    "leads_data['How did you hear about X Education'] = leads_data['How did you hear about X Education'].replace('Select',np.nan)"
   ]
  },
  {
   "cell_type": "code",
   "execution_count": 37,
   "id": "1d8cbc14",
   "metadata": {
    "scrolled": true
   },
   "outputs": [
    {
     "data": {
      "text/plain": [
       "Online Search            0.406030\n",
       "Word Of Mouth            0.174874\n",
       "Student of SomeSchool    0.155779\n",
       "Other                    0.093467\n",
       "Multiple Sources         0.076382\n",
       "Advertisements           0.035176\n",
       "Social Media             0.033668\n",
       "Email                    0.013065\n",
       "SMS                      0.011558\n",
       "Name: How did you hear about X Education, dtype: float64"
      ]
     },
     "execution_count": 37,
     "metadata": {},
     "output_type": "execute_result"
    }
   ],
   "source": [
    "leads_data['How did you hear about X Education'].value_counts(normalize=True)"
   ]
  },
  {
   "cell_type": "code",
   "execution_count": 38,
   "id": "25f9638b",
   "metadata": {
    "scrolled": true
   },
   "outputs": [],
   "source": [
    "leads_data['How did you hear about X Education'] = leads_data['How did you hear about X Education'].replace(np.nan,'Other')"
   ]
  },
  {
   "cell_type": "code",
   "execution_count": 39,
   "id": "85887276",
   "metadata": {
    "scrolled": true
   },
   "outputs": [
    {
     "data": {
      "text/plain": [
       "Lead Origin                                       0.000000\n",
       "Lead Source                                       0.389610\n",
       "Do Not Email                                      0.000000\n",
       "Do Not Call                                       0.000000\n",
       "Converted                                         0.000000\n",
       "TotalVisits                                       1.482684\n",
       "Total Time Spent on Website                       0.000000\n",
       "Page Views Per Visit                              1.482684\n",
       "Last Activity                                     1.114719\n",
       "Country                                           0.000000\n",
       "Specialization                                   15.562771\n",
       "How did you hear about X Education                0.000000\n",
       "What is your current occupation                   0.000000\n",
       "What matters most to you in choosing a course     0.000000\n",
       "Search                                            0.000000\n",
       "Newspaper Article                                 0.000000\n",
       "X Education Forums                                0.000000\n",
       "Newspaper                                         0.000000\n",
       "Digital Advertisement                             0.000000\n",
       "Through Recommendations                           0.000000\n",
       "Tags                                              0.000000\n",
       "Lead Profile                                      0.000000\n",
       "City                                             15.367965\n",
       "A free copy of Mastering The Interview            0.000000\n",
       "Last Notable Activity                             0.000000\n",
       "dtype: float64"
      ]
     },
     "execution_count": 39,
     "metadata": {},
     "output_type": "execute_result"
    }
   ],
   "source": [
    "leads_data.isnull().sum()/len(leads_data)*100"
   ]
  },
  {
   "cell_type": "code",
   "execution_count": 40,
   "id": "55e0bae0",
   "metadata": {
    "scrolled": true
   },
   "outputs": [
    {
     "data": {
      "text/plain": [
       "Select                               1942\n",
       "Finance Management                    976\n",
       "Human Resource Management             848\n",
       "Marketing Management                  838\n",
       "Operations Management                 503\n",
       "Business Administration               403\n",
       "IT Projects Management                366\n",
       "Supply Chain Management               349\n",
       "Banking, Investment And Insurance     338\n",
       "Travel and Tourism                    203\n",
       "Media and Advertising                 203\n",
       "International Business                178\n",
       "Healthcare Management                 159\n",
       "Hospitality Management                114\n",
       "E-COMMERCE                            112\n",
       "Retail Management                     100\n",
       "Rural and Agribusiness                 73\n",
       "E-Business                             57\n",
       "Services Excellence                    40\n",
       "Name: Specialization, dtype: int64"
      ]
     },
     "execution_count": 40,
     "metadata": {},
     "output_type": "execute_result"
    }
   ],
   "source": [
    "leads_data['Specialization'].value_counts()"
   ]
  },
  {
   "cell_type": "code",
   "execution_count": 41,
   "id": "be3bdebd",
   "metadata": {
    "scrolled": true
   },
   "outputs": [],
   "source": [
    "# Again for better simplification converting 'Select' to NaN\n",
    "leads_data['Specialization'] = leads_data['Specialization'].replace('Select',np.nan)"
   ]
  },
  {
   "cell_type": "code",
   "execution_count": 42,
   "id": "10e05cc3",
   "metadata": {
    "scrolled": true
   },
   "outputs": [
    {
     "data": {
      "text/plain": [
       "Finance Management                   0.166553\n",
       "Human Resource Management            0.144710\n",
       "Marketing Management                 0.143003\n",
       "Operations Management                0.085836\n",
       "Business Administration              0.068771\n",
       "IT Projects Management               0.062457\n",
       "Supply Chain Management              0.059556\n",
       "Banking, Investment And Insurance    0.057679\n",
       "Travel and Tourism                   0.034642\n",
       "Media and Advertising                0.034642\n",
       "International Business               0.030375\n",
       "Healthcare Management                0.027133\n",
       "Hospitality Management               0.019454\n",
       "E-COMMERCE                           0.019113\n",
       "Retail Management                    0.017065\n",
       "Rural and Agribusiness               0.012457\n",
       "E-Business                           0.009727\n",
       "Services Excellence                  0.006826\n",
       "Name: Specialization, dtype: float64"
      ]
     },
     "execution_count": 42,
     "metadata": {},
     "output_type": "execute_result"
    }
   ],
   "source": [
    "leads_data['Specialization'].value_counts(normalize=True)"
   ]
  },
  {
   "cell_type": "code",
   "execution_count": 43,
   "id": "6dd4b3de",
   "metadata": {
    "scrolled": true
   },
   "outputs": [],
   "source": [
    "# As there is not much difference of value counts among top 3 hence it will be much more beniffiting if we convert the values of na to 'Others'\n",
    "leads_data['Specialization'] = leads_data['Specialization'].replace(np.nan,'Unknown')"
   ]
  },
  {
   "cell_type": "code",
   "execution_count": 44,
   "id": "5119dbfb",
   "metadata": {
    "scrolled": true
   },
   "outputs": [
    {
     "data": {
      "text/plain": [
       "Mumbai                         0.412020\n",
       "Select                         0.287596\n",
       "Thane & Outskirts              0.096164\n",
       "Other Cities                   0.087724\n",
       "Other Cities of Maharashtra    0.058440\n",
       "Other Metro Cities             0.048593\n",
       "Tier II Cities                 0.009463\n",
       "Name: City, dtype: float64"
      ]
     },
     "execution_count": 44,
     "metadata": {},
     "output_type": "execute_result"
    }
   ],
   "source": [
    "leads_data['City'].value_counts(normalize=True)"
   ]
  },
  {
   "cell_type": "code",
   "execution_count": 45,
   "id": "fdd50b0d",
   "metadata": {
    "scrolled": true
   },
   "outputs": [],
   "source": [
    "leads_data['City'] = leads_data['City'].replace('Select',np.nan)"
   ]
  },
  {
   "cell_type": "code",
   "execution_count": 46,
   "id": "3d453ae4",
   "metadata": {
    "scrolled": true
   },
   "outputs": [],
   "source": [
    "leads_data['City'] = leads_data['City'].replace(np.nan,'Mumbai')"
   ]
  },
  {
   "cell_type": "code",
   "execution_count": 47,
   "id": "432a2216",
   "metadata": {
    "scrolled": true
   },
   "outputs": [
    {
     "data": {
      "text/plain": [
       "Lead Origin                                      0.000000\n",
       "Lead Source                                      0.389610\n",
       "Do Not Email                                     0.000000\n",
       "Do Not Call                                      0.000000\n",
       "Converted                                        0.000000\n",
       "TotalVisits                                      1.482684\n",
       "Total Time Spent on Website                      0.000000\n",
       "Page Views Per Visit                             1.482684\n",
       "Last Activity                                    1.114719\n",
       "Country                                          0.000000\n",
       "Specialization                                   0.000000\n",
       "How did you hear about X Education               0.000000\n",
       "What is your current occupation                  0.000000\n",
       "What matters most to you in choosing a course    0.000000\n",
       "Search                                           0.000000\n",
       "Newspaper Article                                0.000000\n",
       "X Education Forums                               0.000000\n",
       "Newspaper                                        0.000000\n",
       "Digital Advertisement                            0.000000\n",
       "Through Recommendations                          0.000000\n",
       "Tags                                             0.000000\n",
       "Lead Profile                                     0.000000\n",
       "City                                             0.000000\n",
       "A free copy of Mastering The Interview           0.000000\n",
       "Last Notable Activity                            0.000000\n",
       "dtype: float64"
      ]
     },
     "execution_count": 47,
     "metadata": {},
     "output_type": "execute_result"
    }
   ],
   "source": [
    "# new updated null value in the features\n",
    "leads_data.isnull().sum()/len(leads_data)*100"
   ]
  },
  {
   "cell_type": "markdown",
   "id": "6c2b6597",
   "metadata": {},
   "source": [
    "#### Columns having <10% null values\n",
    "- TotalVisits  \n",
    "- Page Views Per Visit\n",
    "- Last Activity \n",
    "- Lead Source "
   ]
  },
  {
   "cell_type": "markdown",
   "id": "39c61c06",
   "metadata": {},
   "source": [
    "- Checking the rows with null values for the above mentioned columns"
   ]
  },
  {
   "cell_type": "code",
   "execution_count": 48,
   "id": "383720d3",
   "metadata": {},
   "outputs": [
    {
     "data": {
      "text/html": [
       "<div>\n",
       "<style scoped>\n",
       "    .dataframe tbody tr th:only-of-type {\n",
       "        vertical-align: middle;\n",
       "    }\n",
       "\n",
       "    .dataframe tbody tr th {\n",
       "        vertical-align: top;\n",
       "    }\n",
       "\n",
       "    .dataframe thead th {\n",
       "        text-align: right;\n",
       "    }\n",
       "</style>\n",
       "<table border=\"1\" class=\"dataframe\">\n",
       "  <thead>\n",
       "    <tr style=\"text-align: right;\">\n",
       "      <th></th>\n",
       "      <th>Lead Origin</th>\n",
       "      <th>Lead Source</th>\n",
       "      <th>Do Not Email</th>\n",
       "      <th>Do Not Call</th>\n",
       "      <th>Converted</th>\n",
       "      <th>TotalVisits</th>\n",
       "      <th>Total Time Spent on Website</th>\n",
       "      <th>Page Views Per Visit</th>\n",
       "      <th>Last Activity</th>\n",
       "      <th>Country</th>\n",
       "      <th>...</th>\n",
       "      <th>Newspaper Article</th>\n",
       "      <th>X Education Forums</th>\n",
       "      <th>Newspaper</th>\n",
       "      <th>Digital Advertisement</th>\n",
       "      <th>Through Recommendations</th>\n",
       "      <th>Tags</th>\n",
       "      <th>Lead Profile</th>\n",
       "      <th>City</th>\n",
       "      <th>A free copy of Mastering The Interview</th>\n",
       "      <th>Last Notable Activity</th>\n",
       "    </tr>\n",
       "  </thead>\n",
       "  <tbody>\n",
       "    <tr>\n",
       "      <th>77</th>\n",
       "      <td>Lead Add Form</td>\n",
       "      <td>Welingak Website</td>\n",
       "      <td>No</td>\n",
       "      <td>No</td>\n",
       "      <td>1</td>\n",
       "      <td>NaN</td>\n",
       "      <td>1096</td>\n",
       "      <td>NaN</td>\n",
       "      <td>NaN</td>\n",
       "      <td>India</td>\n",
       "      <td>...</td>\n",
       "      <td>No</td>\n",
       "      <td>No</td>\n",
       "      <td>No</td>\n",
       "      <td>No</td>\n",
       "      <td>No</td>\n",
       "      <td>Will revert after reading the email</td>\n",
       "      <td>Unknown</td>\n",
       "      <td>Mumbai</td>\n",
       "      <td>No</td>\n",
       "      <td>Modified</td>\n",
       "    </tr>\n",
       "    <tr>\n",
       "      <th>79</th>\n",
       "      <td>Lead Add Form</td>\n",
       "      <td>Reference</td>\n",
       "      <td>No</td>\n",
       "      <td>No</td>\n",
       "      <td>1</td>\n",
       "      <td>NaN</td>\n",
       "      <td>705</td>\n",
       "      <td>NaN</td>\n",
       "      <td>NaN</td>\n",
       "      <td>India</td>\n",
       "      <td>...</td>\n",
       "      <td>No</td>\n",
       "      <td>No</td>\n",
       "      <td>No</td>\n",
       "      <td>No</td>\n",
       "      <td>No</td>\n",
       "      <td>Will revert after reading the email</td>\n",
       "      <td>Potential Lead</td>\n",
       "      <td>Thane &amp; Outskirts</td>\n",
       "      <td>No</td>\n",
       "      <td>Modified</td>\n",
       "    </tr>\n",
       "    <tr>\n",
       "      <th>81</th>\n",
       "      <td>Lead Add Form</td>\n",
       "      <td>Welingak Website</td>\n",
       "      <td>No</td>\n",
       "      <td>No</td>\n",
       "      <td>1</td>\n",
       "      <td>NaN</td>\n",
       "      <td>346</td>\n",
       "      <td>NaN</td>\n",
       "      <td>NaN</td>\n",
       "      <td>India</td>\n",
       "      <td>...</td>\n",
       "      <td>No</td>\n",
       "      <td>No</td>\n",
       "      <td>No</td>\n",
       "      <td>No</td>\n",
       "      <td>No</td>\n",
       "      <td>Will revert after reading the email</td>\n",
       "      <td>Unknown</td>\n",
       "      <td>Mumbai</td>\n",
       "      <td>No</td>\n",
       "      <td>Modified</td>\n",
       "    </tr>\n",
       "    <tr>\n",
       "      <th>88</th>\n",
       "      <td>Lead Add Form</td>\n",
       "      <td>Reference</td>\n",
       "      <td>No</td>\n",
       "      <td>No</td>\n",
       "      <td>1</td>\n",
       "      <td>NaN</td>\n",
       "      <td>1007</td>\n",
       "      <td>NaN</td>\n",
       "      <td>NaN</td>\n",
       "      <td>India</td>\n",
       "      <td>...</td>\n",
       "      <td>No</td>\n",
       "      <td>No</td>\n",
       "      <td>No</td>\n",
       "      <td>No</td>\n",
       "      <td>No</td>\n",
       "      <td>Closed by Horizzon</td>\n",
       "      <td>Lateral Student</td>\n",
       "      <td>Mumbai</td>\n",
       "      <td>No</td>\n",
       "      <td>Modified</td>\n",
       "    </tr>\n",
       "    <tr>\n",
       "      <th>120</th>\n",
       "      <td>Lead Add Form</td>\n",
       "      <td>Reference</td>\n",
       "      <td>No</td>\n",
       "      <td>No</td>\n",
       "      <td>1</td>\n",
       "      <td>NaN</td>\n",
       "      <td>1111</td>\n",
       "      <td>NaN</td>\n",
       "      <td>NaN</td>\n",
       "      <td>India</td>\n",
       "      <td>...</td>\n",
       "      <td>No</td>\n",
       "      <td>No</td>\n",
       "      <td>No</td>\n",
       "      <td>No</td>\n",
       "      <td>No</td>\n",
       "      <td>Closed by Horizzon</td>\n",
       "      <td>Potential Lead</td>\n",
       "      <td>Other Cities</td>\n",
       "      <td>No</td>\n",
       "      <td>Modified</td>\n",
       "    </tr>\n",
       "    <tr>\n",
       "      <th>...</th>\n",
       "      <td>...</td>\n",
       "      <td>...</td>\n",
       "      <td>...</td>\n",
       "      <td>...</td>\n",
       "      <td>...</td>\n",
       "      <td>...</td>\n",
       "      <td>...</td>\n",
       "      <td>...</td>\n",
       "      <td>...</td>\n",
       "      <td>...</td>\n",
       "      <td>...</td>\n",
       "      <td>...</td>\n",
       "      <td>...</td>\n",
       "      <td>...</td>\n",
       "      <td>...</td>\n",
       "      <td>...</td>\n",
       "      <td>...</td>\n",
       "      <td>...</td>\n",
       "      <td>...</td>\n",
       "      <td>...</td>\n",
       "      <td>...</td>\n",
       "    </tr>\n",
       "    <tr>\n",
       "      <th>8097</th>\n",
       "      <td>Lead Add Form</td>\n",
       "      <td>Reference</td>\n",
       "      <td>No</td>\n",
       "      <td>No</td>\n",
       "      <td>0</td>\n",
       "      <td>NaN</td>\n",
       "      <td>1201</td>\n",
       "      <td>NaN</td>\n",
       "      <td>NaN</td>\n",
       "      <td>India</td>\n",
       "      <td>...</td>\n",
       "      <td>No</td>\n",
       "      <td>No</td>\n",
       "      <td>No</td>\n",
       "      <td>No</td>\n",
       "      <td>No</td>\n",
       "      <td>Interested  in full time MBA</td>\n",
       "      <td>Unknown</td>\n",
       "      <td>Mumbai</td>\n",
       "      <td>No</td>\n",
       "      <td>Modified</td>\n",
       "    </tr>\n",
       "    <tr>\n",
       "      <th>8107</th>\n",
       "      <td>Lead Add Form</td>\n",
       "      <td>Reference</td>\n",
       "      <td>No</td>\n",
       "      <td>No</td>\n",
       "      <td>1</td>\n",
       "      <td>NaN</td>\n",
       "      <td>903</td>\n",
       "      <td>NaN</td>\n",
       "      <td>NaN</td>\n",
       "      <td>India</td>\n",
       "      <td>...</td>\n",
       "      <td>No</td>\n",
       "      <td>No</td>\n",
       "      <td>No</td>\n",
       "      <td>No</td>\n",
       "      <td>No</td>\n",
       "      <td>Lost to EINS</td>\n",
       "      <td>Potential Lead</td>\n",
       "      <td>Mumbai</td>\n",
       "      <td>No</td>\n",
       "      <td>Modified</td>\n",
       "    </tr>\n",
       "    <tr>\n",
       "      <th>8434</th>\n",
       "      <td>Lead Add Form</td>\n",
       "      <td>Reference</td>\n",
       "      <td>No</td>\n",
       "      <td>No</td>\n",
       "      <td>1</td>\n",
       "      <td>NaN</td>\n",
       "      <td>1458</td>\n",
       "      <td>NaN</td>\n",
       "      <td>NaN</td>\n",
       "      <td>India</td>\n",
       "      <td>...</td>\n",
       "      <td>No</td>\n",
       "      <td>No</td>\n",
       "      <td>No</td>\n",
       "      <td>No</td>\n",
       "      <td>No</td>\n",
       "      <td>Closed by Horizzon</td>\n",
       "      <td>Unknown</td>\n",
       "      <td>Mumbai</td>\n",
       "      <td>No</td>\n",
       "      <td>Modified</td>\n",
       "    </tr>\n",
       "    <tr>\n",
       "      <th>9015</th>\n",
       "      <td>Lead Add Form</td>\n",
       "      <td>Reference</td>\n",
       "      <td>No</td>\n",
       "      <td>No</td>\n",
       "      <td>1</td>\n",
       "      <td>NaN</td>\n",
       "      <td>1159</td>\n",
       "      <td>NaN</td>\n",
       "      <td>NaN</td>\n",
       "      <td>India</td>\n",
       "      <td>...</td>\n",
       "      <td>No</td>\n",
       "      <td>No</td>\n",
       "      <td>No</td>\n",
       "      <td>No</td>\n",
       "      <td>No</td>\n",
       "      <td>Closed by Horizzon</td>\n",
       "      <td>Potential Lead</td>\n",
       "      <td>Mumbai</td>\n",
       "      <td>No</td>\n",
       "      <td>Modified</td>\n",
       "    </tr>\n",
       "    <tr>\n",
       "      <th>9087</th>\n",
       "      <td>Lead Add Form</td>\n",
       "      <td>Reference</td>\n",
       "      <td>No</td>\n",
       "      <td>No</td>\n",
       "      <td>1</td>\n",
       "      <td>NaN</td>\n",
       "      <td>1525</td>\n",
       "      <td>NaN</td>\n",
       "      <td>NaN</td>\n",
       "      <td>India</td>\n",
       "      <td>...</td>\n",
       "      <td>No</td>\n",
       "      <td>No</td>\n",
       "      <td>No</td>\n",
       "      <td>No</td>\n",
       "      <td>No</td>\n",
       "      <td>Closed by Horizzon</td>\n",
       "      <td>Potential Lead</td>\n",
       "      <td>Mumbai</td>\n",
       "      <td>No</td>\n",
       "      <td>Modified</td>\n",
       "    </tr>\n",
       "  </tbody>\n",
       "</table>\n",
       "<p>103 rows × 25 columns</p>\n",
       "</div>"
      ],
      "text/plain": [
       "        Lead Origin       Lead Source Do Not Email Do Not Call  Converted  \\\n",
       "77    Lead Add Form  Welingak Website           No          No          1   \n",
       "79    Lead Add Form         Reference           No          No          1   \n",
       "81    Lead Add Form  Welingak Website           No          No          1   \n",
       "88    Lead Add Form         Reference           No          No          1   \n",
       "120   Lead Add Form         Reference           No          No          1   \n",
       "...             ...               ...          ...         ...        ...   \n",
       "8097  Lead Add Form         Reference           No          No          0   \n",
       "8107  Lead Add Form         Reference           No          No          1   \n",
       "8434  Lead Add Form         Reference           No          No          1   \n",
       "9015  Lead Add Form         Reference           No          No          1   \n",
       "9087  Lead Add Form         Reference           No          No          1   \n",
       "\n",
       "      TotalVisits  Total Time Spent on Website  Page Views Per Visit  \\\n",
       "77            NaN                         1096                   NaN   \n",
       "79            NaN                          705                   NaN   \n",
       "81            NaN                          346                   NaN   \n",
       "88            NaN                         1007                   NaN   \n",
       "120           NaN                         1111                   NaN   \n",
       "...           ...                          ...                   ...   \n",
       "8097          NaN                         1201                   NaN   \n",
       "8107          NaN                          903                   NaN   \n",
       "8434          NaN                         1458                   NaN   \n",
       "9015          NaN                         1159                   NaN   \n",
       "9087          NaN                         1525                   NaN   \n",
       "\n",
       "     Last Activity Country  ... Newspaper Article X Education Forums  \\\n",
       "77             NaN   India  ...                No                 No   \n",
       "79             NaN   India  ...                No                 No   \n",
       "81             NaN   India  ...                No                 No   \n",
       "88             NaN   India  ...                No                 No   \n",
       "120            NaN   India  ...                No                 No   \n",
       "...            ...     ...  ...               ...                ...   \n",
       "8097           NaN   India  ...                No                 No   \n",
       "8107           NaN   India  ...                No                 No   \n",
       "8434           NaN   India  ...                No                 No   \n",
       "9015           NaN   India  ...                No                 No   \n",
       "9087           NaN   India  ...                No                 No   \n",
       "\n",
       "     Newspaper Digital Advertisement Through Recommendations  \\\n",
       "77          No                    No                      No   \n",
       "79          No                    No                      No   \n",
       "81          No                    No                      No   \n",
       "88          No                    No                      No   \n",
       "120         No                    No                      No   \n",
       "...        ...                   ...                     ...   \n",
       "8097        No                    No                      No   \n",
       "8107        No                    No                      No   \n",
       "8434        No                    No                      No   \n",
       "9015        No                    No                      No   \n",
       "9087        No                    No                      No   \n",
       "\n",
       "                                     Tags     Lead Profile               City  \\\n",
       "77    Will revert after reading the email          Unknown             Mumbai   \n",
       "79    Will revert after reading the email   Potential Lead  Thane & Outskirts   \n",
       "81    Will revert after reading the email          Unknown             Mumbai   \n",
       "88                     Closed by Horizzon  Lateral Student             Mumbai   \n",
       "120                    Closed by Horizzon   Potential Lead       Other Cities   \n",
       "...                                   ...              ...                ...   \n",
       "8097         Interested  in full time MBA          Unknown             Mumbai   \n",
       "8107                         Lost to EINS   Potential Lead             Mumbai   \n",
       "8434                   Closed by Horizzon          Unknown             Mumbai   \n",
       "9015                   Closed by Horizzon   Potential Lead             Mumbai   \n",
       "9087                   Closed by Horizzon   Potential Lead             Mumbai   \n",
       "\n",
       "     A free copy of Mastering The Interview Last Notable Activity  \n",
       "77                                       No              Modified  \n",
       "79                                       No              Modified  \n",
       "81                                       No              Modified  \n",
       "88                                       No              Modified  \n",
       "120                                      No              Modified  \n",
       "...                                     ...                   ...  \n",
       "8097                                     No              Modified  \n",
       "8107                                     No              Modified  \n",
       "8434                                     No              Modified  \n",
       "9015                                     No              Modified  \n",
       "9087                                     No              Modified  \n",
       "\n",
       "[103 rows x 25 columns]"
      ]
     },
     "execution_count": 48,
     "metadata": {},
     "output_type": "execute_result"
    }
   ],
   "source": [
    "leads_data[leads_data['Last Activity'].isna()]"
   ]
  },
  {
   "cell_type": "code",
   "execution_count": 49,
   "id": "fd2a1c8d",
   "metadata": {
    "scrolled": true
   },
   "outputs": [],
   "source": [
    "leads_data['Last Activity'].fillna(leads_data['Last Activity'].mode()[0],inplace=True)"
   ]
  },
  {
   "cell_type": "code",
   "execution_count": 50,
   "id": "1ec11739",
   "metadata": {
    "scrolled": true
   },
   "outputs": [
    {
     "data": {
      "text/html": [
       "<div>\n",
       "<style scoped>\n",
       "    .dataframe tbody tr th:only-of-type {\n",
       "        vertical-align: middle;\n",
       "    }\n",
       "\n",
       "    .dataframe tbody tr th {\n",
       "        vertical-align: top;\n",
       "    }\n",
       "\n",
       "    .dataframe thead th {\n",
       "        text-align: right;\n",
       "    }\n",
       "</style>\n",
       "<table border=\"1\" class=\"dataframe\">\n",
       "  <thead>\n",
       "    <tr style=\"text-align: right;\">\n",
       "      <th></th>\n",
       "      <th>Lead Origin</th>\n",
       "      <th>Lead Source</th>\n",
       "      <th>Do Not Email</th>\n",
       "      <th>Do Not Call</th>\n",
       "      <th>Converted</th>\n",
       "      <th>TotalVisits</th>\n",
       "      <th>Total Time Spent on Website</th>\n",
       "      <th>Page Views Per Visit</th>\n",
       "      <th>Last Activity</th>\n",
       "      <th>Country</th>\n",
       "      <th>...</th>\n",
       "      <th>Newspaper Article</th>\n",
       "      <th>X Education Forums</th>\n",
       "      <th>Newspaper</th>\n",
       "      <th>Digital Advertisement</th>\n",
       "      <th>Through Recommendations</th>\n",
       "      <th>Tags</th>\n",
       "      <th>Lead Profile</th>\n",
       "      <th>City</th>\n",
       "      <th>A free copy of Mastering The Interview</th>\n",
       "      <th>Last Notable Activity</th>\n",
       "    </tr>\n",
       "  </thead>\n",
       "  <tbody>\n",
       "  </tbody>\n",
       "</table>\n",
       "<p>0 rows × 25 columns</p>\n",
       "</div>"
      ],
      "text/plain": [
       "Empty DataFrame\n",
       "Columns: [Lead Origin, Lead Source, Do Not Email, Do Not Call, Converted, TotalVisits, Total Time Spent on Website, Page Views Per Visit, Last Activity, Country, Specialization, How did you hear about X Education, What is your current occupation, What matters most to you in choosing a course, Search, Newspaper Article, X Education Forums, Newspaper, Digital Advertisement, Through Recommendations, Tags, Lead Profile, City, A free copy of Mastering The Interview, Last Notable Activity]\n",
       "Index: []\n",
       "\n",
       "[0 rows x 25 columns]"
      ]
     },
     "execution_count": 50,
     "metadata": {},
     "output_type": "execute_result"
    }
   ],
   "source": [
    "leads_data[leads_data['Last Activity'].isna()]"
   ]
  },
  {
   "cell_type": "code",
   "execution_count": 51,
   "id": "2fc76e1f",
   "metadata": {
    "scrolled": true
   },
   "outputs": [
    {
     "data": {
      "text/plain": [
       "count    9103.000000\n",
       "mean        3.445238\n",
       "std         4.854853\n",
       "min         0.000000\n",
       "25%         1.000000\n",
       "50%         3.000000\n",
       "75%         5.000000\n",
       "max       251.000000\n",
       "Name: TotalVisits, dtype: float64"
      ]
     },
     "execution_count": 51,
     "metadata": {},
     "output_type": "execute_result"
    }
   ],
   "source": [
    "leads_data['TotalVisits'].describe()"
   ]
  },
  {
   "cell_type": "markdown",
   "id": "c7d1be6e",
   "metadata": {},
   "source": [
    "- will impute the column TotalVisits with median as it contains outliers"
   ]
  },
  {
   "cell_type": "code",
   "execution_count": 52,
   "id": "22d536df",
   "metadata": {
    "scrolled": true
   },
   "outputs": [
    {
     "data": {
      "text/plain": [
       "count    9103.000000\n",
       "mean        2.362820\n",
       "std         2.161418\n",
       "min         0.000000\n",
       "25%         1.000000\n",
       "50%         2.000000\n",
       "75%         3.000000\n",
       "max        55.000000\n",
       "Name: Page Views Per Visit, dtype: float64"
      ]
     },
     "execution_count": 52,
     "metadata": {},
     "output_type": "execute_result"
    }
   ],
   "source": [
    "leads_data['Page Views Per Visit'].describe()"
   ]
  },
  {
   "cell_type": "markdown",
   "id": "14d83a5d",
   "metadata": {},
   "source": [
    "- will impute the column Page Views Per Visit with median as it contains outliers"
   ]
  },
  {
   "cell_type": "code",
   "execution_count": 53,
   "id": "935fec6c",
   "metadata": {
    "scrolled": true
   },
   "outputs": [],
   "source": [
    "leads_data['TotalVisits'].fillna(leads_data['TotalVisits'].median(),inplace=True)\n",
    "leads_data['Page Views Per Visit'].fillna(leads_data['Page Views Per Visit'].median(),inplace=True)"
   ]
  },
  {
   "cell_type": "code",
   "execution_count": 54,
   "id": "e3935401",
   "metadata": {},
   "outputs": [
    {
     "data": {
      "text/plain": [
       "Google               2868\n",
       "Direct Traffic       2543\n",
       "Olark Chat           1755\n",
       "Organic Search       1154\n",
       "Reference             534\n",
       "Welingak Website      142\n",
       "Referral Sites        125\n",
       "Facebook               55\n",
       "bing                    6\n",
       "google                  5\n",
       "Click2call              4\n",
       "Press_Release           2\n",
       "Social Media            2\n",
       "Live Chat               2\n",
       "youtubechannel          1\n",
       "testone                 1\n",
       "Pay per Click Ads       1\n",
       "welearnblog_Home        1\n",
       "WeLearn                 1\n",
       "blog                    1\n",
       "NC_EDM                  1\n",
       "Name: Lead Source, dtype: int64"
      ]
     },
     "execution_count": 54,
     "metadata": {},
     "output_type": "execute_result"
    }
   ],
   "source": [
    "leads_data['Lead Source'].value_counts()"
   ]
  },
  {
   "cell_type": "markdown",
   "id": "827e6c09",
   "metadata": {},
   "source": [
    "- Here, Google and google are having semantic issues. Let's replace google with Google\n",
    "- After replacing, we will replace the null values with mode of Lead Source column i.e. Google"
   ]
  },
  {
   "cell_type": "code",
   "execution_count": 55,
   "id": "47a098f5",
   "metadata": {
    "scrolled": true
   },
   "outputs": [],
   "source": [
    "#replacing\n",
    "leads_data['Lead Source'].replace({'google':'Google'},inplace=True)"
   ]
  },
  {
   "cell_type": "code",
   "execution_count": 56,
   "id": "7ffeb276",
   "metadata": {
    "scrolled": true
   },
   "outputs": [],
   "source": [
    "leads_data['Lead Source'].fillna(leads_data['Lead Source'].mode()[0],inplace=True)"
   ]
  },
  {
   "cell_type": "code",
   "execution_count": 57,
   "id": "b8cde121",
   "metadata": {
    "scrolled": true
   },
   "outputs": [
    {
     "data": {
      "text/plain": [
       "Lead Origin                                      0.0\n",
       "Lead Source                                      0.0\n",
       "Do Not Email                                     0.0\n",
       "Do Not Call                                      0.0\n",
       "Converted                                        0.0\n",
       "TotalVisits                                      0.0\n",
       "Total Time Spent on Website                      0.0\n",
       "Page Views Per Visit                             0.0\n",
       "Last Activity                                    0.0\n",
       "Country                                          0.0\n",
       "Specialization                                   0.0\n",
       "How did you hear about X Education               0.0\n",
       "What is your current occupation                  0.0\n",
       "What matters most to you in choosing a course    0.0\n",
       "Search                                           0.0\n",
       "Newspaper Article                                0.0\n",
       "X Education Forums                               0.0\n",
       "Newspaper                                        0.0\n",
       "Digital Advertisement                            0.0\n",
       "Through Recommendations                          0.0\n",
       "Tags                                             0.0\n",
       "Lead Profile                                     0.0\n",
       "City                                             0.0\n",
       "A free copy of Mastering The Interview           0.0\n",
       "Last Notable Activity                            0.0\n",
       "dtype: float64"
      ]
     },
     "execution_count": 57,
     "metadata": {},
     "output_type": "execute_result"
    }
   ],
   "source": [
    "# new updated null value in the features\n",
    "leads_data.isnull().sum()/len(leads_data)*100"
   ]
  },
  {
   "cell_type": "code",
   "execution_count": 58,
   "id": "49ccfd99",
   "metadata": {},
   "outputs": [
    {
     "name": "stdout",
     "output_type": "stream",
     "text": [
      "<class 'pandas.core.frame.DataFrame'>\n",
      "RangeIndex: 9240 entries, 0 to 9239\n",
      "Data columns (total 25 columns):\n",
      " #   Column                                         Non-Null Count  Dtype  \n",
      "---  ------                                         --------------  -----  \n",
      " 0   Lead Origin                                    9240 non-null   object \n",
      " 1   Lead Source                                    9240 non-null   object \n",
      " 2   Do Not Email                                   9240 non-null   object \n",
      " 3   Do Not Call                                    9240 non-null   object \n",
      " 4   Converted                                      9240 non-null   int64  \n",
      " 5   TotalVisits                                    9240 non-null   float64\n",
      " 6   Total Time Spent on Website                    9240 non-null   int64  \n",
      " 7   Page Views Per Visit                           9240 non-null   float64\n",
      " 8   Last Activity                                  9240 non-null   object \n",
      " 9   Country                                        9240 non-null   object \n",
      " 10  Specialization                                 9240 non-null   object \n",
      " 11  How did you hear about X Education             9240 non-null   object \n",
      " 12  What is your current occupation                9240 non-null   object \n",
      " 13  What matters most to you in choosing a course  9240 non-null   object \n",
      " 14  Search                                         9240 non-null   object \n",
      " 15  Newspaper Article                              9240 non-null   object \n",
      " 16  X Education Forums                             9240 non-null   object \n",
      " 17  Newspaper                                      9240 non-null   object \n",
      " 18  Digital Advertisement                          9240 non-null   object \n",
      " 19  Through Recommendations                        9240 non-null   object \n",
      " 20  Tags                                           9240 non-null   object \n",
      " 21  Lead Profile                                   9240 non-null   object \n",
      " 22  City                                           9240 non-null   object \n",
      " 23  A free copy of Mastering The Interview         9240 non-null   object \n",
      " 24  Last Notable Activity                          9240 non-null   object \n",
      "dtypes: float64(2), int64(2), object(21)\n",
      "memory usage: 1.8+ MB\n"
     ]
    }
   ],
   "source": [
    "leads_data.info()"
   ]
  },
  {
   "cell_type": "markdown",
   "id": "6fab89c9",
   "metadata": {},
   "source": [
    "- Columns: 25\n",
    "- Rows: 9240 "
   ]
  },
  {
   "cell_type": "markdown",
   "id": "b189e6f0",
   "metadata": {},
   "source": [
    "## 3. Data Visualization"
   ]
  },
  {
   "cell_type": "markdown",
   "id": "1f3c2506",
   "metadata": {},
   "source": [
    "### Target Variable"
   ]
  },
  {
   "cell_type": "code",
   "execution_count": 59,
   "id": "22ba08f9",
   "metadata": {
    "scrolled": true
   },
   "outputs": [
    {
     "data": {
      "text/plain": [
       "0    0.61461\n",
       "1    0.38539\n",
       "Name: Converted, dtype: float64"
      ]
     },
     "execution_count": 59,
     "metadata": {},
     "output_type": "execute_result"
    }
   ],
   "source": [
    "# focussing on the target variable converted\n",
    "leads_data['Converted'].value_counts(normalize=True)"
   ]
  },
  {
   "cell_type": "markdown",
   "id": "6c5489f6",
   "metadata": {},
   "source": [
    "- This shows that both the classes of data have sizeable representation"
   ]
  },
  {
   "cell_type": "markdown",
   "id": "b871e0d2",
   "metadata": {},
   "source": [
    "#### Visualizing  the numerical variables"
   ]
  },
  {
   "cell_type": "code",
   "execution_count": 60,
   "id": "96ebe241",
   "metadata": {
    "scrolled": true
   },
   "outputs": [
    {
     "data": {
      "image/png": "[encoded data removed]",
      "text/plain": [
       "<Figure size 1440x360 with 3 Axes>"
      ]
     },
     "metadata": {
      "needs_background": "light"
     },
     "output_type": "display_data"
    }
   ],
   "source": [
    "plt.figure(figsize=(20, 5))\n",
    "plt.subplot(1,3,1)\n",
    "sns.boxplot(leads_data.TotalVisits)\n",
    "plt.subplot(1,3,2)\n",
    "sns.boxplot(leads_data['Total Time Spent on Website'])\n",
    "plt.subplot(1,3,3)\n",
    "sns.boxplot(leads_data['Page Views Per Visit'])\n",
    "plt.show()"
   ]
  },
  {
   "cell_type": "markdown",
   "id": "212c194a",
   "metadata": {},
   "source": [
    "- We have outliers in total Visits and Page views per visit\n",
    "- Imputation won't be useful as the outliers explain variance in data in this case. Hence, we can do binning."
   ]
  },
  {
   "cell_type": "code",
   "execution_count": 61,
   "id": "2550c9d1",
   "metadata": {
    "scrolled": true
   },
   "outputs": [
    {
     "data": {
      "text/plain": [
       "<AxesSubplot:xlabel='Converted', ylabel='TotalVisits'>"
      ]
     },
     "execution_count": 61,
     "metadata": {},
     "output_type": "execute_result"
    },
    {
     "data": {
      "image/png": "[encoded data removed]",
      "text/plain": [
       "<Figure size 432x360 with 1 Axes>"
      ]
     },
     "metadata": {
      "needs_background": "light"
     },
     "output_type": "display_data"
    }
   ],
   "source": [
    "plt.figure(figsize=(6,5))\n",
    "sns.boxplot(y='TotalVisits',x='Converted',data=leads_data)"
   ]
  },
  {
   "cell_type": "markdown",
   "id": "4cb19d33",
   "metadata": {},
   "source": [
    "- there are lot of outliers present in Total visits present we will just take into account only the values within 95th percentile"
   ]
  },
  {
   "cell_type": "markdown",
   "id": "23fff4d9",
   "metadata": {},
   "source": [
    "- Total Time Spent on Website'"
   ]
  },
  {
   "cell_type": "code",
   "execution_count": 62,
   "id": "8d4f5b10",
   "metadata": {
    "scrolled": true
   },
   "outputs": [
    {
     "data": {
      "image/png": "[encoded data removed]",
      "text/plain": [
       "<Figure size 432x288 with 1 Axes>"
      ]
     },
     "metadata": {
      "needs_background": "light"
     },
     "output_type": "display_data"
    }
   ],
   "source": [
    "sns.boxplot(y='Total Time Spent on Website', x='Converted',data=leads_data)\n",
    "plt.show()"
   ]
  },
  {
   "cell_type": "markdown",
   "id": "22fd23d1",
   "metadata": {},
   "source": [
    "**Observation**\n",
    "- we see that there is no discrenable gap between total vists and converted \n",
    "- we also see that customers who spend more time on website are more likely to be converted.\n",
    "- we also see that the median number of visits by converted customers as well as non-converted customers are same."
   ]
  },
  {
   "cell_type": "markdown",
   "id": "cdf2dd61",
   "metadata": {},
   "source": [
    "### Binning the columns - Page Views Per Visit, TotalVisits"
   ]
  },
  {
   "cell_type": "markdown",
   "id": "6a8c293c",
   "metadata": {},
   "source": [
    "- TotalVisits:\n",
    "    - values go upto 250\n",
    "    - let's bin upto 252"
   ]
  },
  {
   "cell_type": "code",
   "execution_count": 63,
   "id": "98bed53d",
   "metadata": {
    "scrolled": true
   },
   "outputs": [
    {
     "data": {
      "text/plain": [
       "0.0      2189\n",
       "2.0      1680\n",
       "3.0      1443\n",
       "4.0      1120\n",
       "5.0       783\n",
       "6.0       466\n",
       "1.0       395\n",
       "7.0       309\n",
       "8.0       224\n",
       "9.0       164\n",
       "10.0      114\n",
       "11.0       86\n",
       "13.0       48\n",
       "12.0       45\n",
       "14.0       36\n",
       "16.0       21\n",
       "15.0       18\n",
       "17.0       16\n",
       "18.0       15\n",
       "20.0       12\n",
       "19.0        9\n",
       "21.0        6\n",
       "23.0        6\n",
       "24.0        5\n",
       "25.0        5\n",
       "27.0        5\n",
       "22.0        3\n",
       "29.0        2\n",
       "28.0        2\n",
       "26.0        2\n",
       "141.0       1\n",
       "55.0        1\n",
       "30.0        1\n",
       "43.0        1\n",
       "74.0        1\n",
       "41.0        1\n",
       "54.0        1\n",
       "115.0       1\n",
       "251.0       1\n",
       "32.0        1\n",
       "42.0        1\n",
       "Name: TotalVisits, dtype: int64"
      ]
     },
     "execution_count": 63,
     "metadata": {},
     "output_type": "execute_result"
    }
   ],
   "source": [
    "leads_data.TotalVisits.value_counts()"
   ]
  },
  {
   "cell_type": "code",
   "execution_count": 64,
   "id": "115090a8",
   "metadata": {
    "scrolled": true
   },
   "outputs": [],
   "source": [
    "total_visits_label=['0_Visits','1-2_Visits','3-4_Visits','5-6_Visits','7-8_Visits','9-10_Visits','11-12_Visits','above-12_Visits']\n",
    "leads_data['TotalVisits'] = pd.cut(leads_data['TotalVisits'], bins=[-1,0.0,2,4,6,8,10,12,252], \n",
    "                                   labels = total_visits_label)"
   ]
  },
  {
   "cell_type": "code",
   "execution_count": 65,
   "id": "1f013475",
   "metadata": {
    "scrolled": true
   },
   "outputs": [
    {
     "data": {
      "text/plain": [
       "3-4_Visits         2563\n",
       "0_Visits           2189\n",
       "1-2_Visits         2075\n",
       "5-6_Visits         1249\n",
       "7-8_Visits          533\n",
       "9-10_Visits         278\n",
       "above-12_Visits     222\n",
       "11-12_Visits        131\n",
       "Name: TotalVisits, dtype: int64"
      ]
     },
     "execution_count": 65,
     "metadata": {},
     "output_type": "execute_result"
    }
   ],
   "source": [
    "leads_data.TotalVisits.value_counts()"
   ]
  },
  {
   "cell_type": "markdown",
   "id": "dc795301",
   "metadata": {},
   "source": [
    "- Page views per visit:\n",
    "    - values go upto 55\n",
    "    - let's bin upto 100"
   ]
  },
  {
   "cell_type": "code",
   "execution_count": 66,
   "id": "19cf28eb",
   "metadata": {
    "scrolled": true
   },
   "outputs": [
    {
     "data": {
      "text/plain": [
       "count    9240.000000\n",
       "mean        2.357440\n",
       "std         2.145781\n",
       "min         0.000000\n",
       "25%         1.000000\n",
       "50%         2.000000\n",
       "75%         3.000000\n",
       "max        55.000000\n",
       "Name: Page Views Per Visit, dtype: float64"
      ]
     },
     "execution_count": 66,
     "metadata": {},
     "output_type": "execute_result"
    }
   ],
   "source": [
    "leads_data['Page Views Per Visit'].describe()"
   ]
  },
  {
   "cell_type": "code",
   "execution_count": 67,
   "id": "03b32ea4",
   "metadata": {
    "scrolled": true
   },
   "outputs": [
    {
     "data": {
      "text/plain": [
       "0.00    2189\n",
       "2.00    1932\n",
       "3.00    1196\n",
       "4.00     896\n",
       "1.00     651\n",
       "        ... \n",
       "3.43       1\n",
       "2.56       1\n",
       "6.33       1\n",
       "1.64       1\n",
       "2.08       1\n",
       "Name: Page Views Per Visit, Length: 114, dtype: int64"
      ]
     },
     "execution_count": 67,
     "metadata": {},
     "output_type": "execute_result"
    }
   ],
   "source": [
    "leads_data['Page Views Per Visit'].value_counts()"
   ]
  },
  {
   "cell_type": "code",
   "execution_count": 68,
   "id": "cf309210",
   "metadata": {
    "scrolled": true
   },
   "outputs": [],
   "source": [
    "page_visits_label=['0_Page_views_per_visit','1-2_Page_views_per_visit','3-4_Page_views_per_visit','5-6_Page_views_per_visit','7-8_Page_views_per_visit','9-12_Page_views_per_visit','above-12_Page_views_per_visit']\n",
    "leads_data['Page Views Per Visit'] = pd.cut(leads_data['Page Views Per Visit'], bins=[-1,0.0,2,4,6,8,12,100], \n",
    "                                   labels = page_visits_label)"
   ]
  },
  {
   "cell_type": "code",
   "execution_count": 69,
   "id": "bcbfed82",
   "metadata": {
    "scrolled": true
   },
   "outputs": [
    {
     "data": {
      "text/plain": [
       "1-2_Page_views_per_visit         3144\n",
       "3-4_Page_views_per_visit         2696\n",
       "0_Page_views_per_visit           2189\n",
       "5-6_Page_views_per_visit          851\n",
       "7-8_Page_views_per_visit          237\n",
       "9-12_Page_views_per_visit          97\n",
       "above-12_Page_views_per_visit      26\n",
       "Name: Page Views Per Visit, dtype: int64"
      ]
     },
     "execution_count": 69,
     "metadata": {},
     "output_type": "execute_result"
    }
   ],
   "source": [
    "leads_data['Page Views Per Visit'].value_counts()"
   ]
  },
  {
   "cell_type": "markdown",
   "id": "6d50671a",
   "metadata": {},
   "source": [
    "**Outliers are Handled!**"
   ]
  },
  {
   "cell_type": "markdown",
   "id": "83e7e33c",
   "metadata": {},
   "source": [
    "### Visualising Categorical Variables"
   ]
  },
  {
   "cell_type": "code",
   "execution_count": 70,
   "id": "44ddfaf2",
   "metadata": {
    "scrolled": true
   },
   "outputs": [],
   "source": [
    "cat_cols=leads_data.select_dtypes(object).columns"
   ]
  },
  {
   "cell_type": "code",
   "execution_count": 71,
   "id": "cf258adf",
   "metadata": {},
   "outputs": [
    {
     "ename": "NameError",
     "evalue": "name 'xticks' is not defined",
     "output_type": "error",
     "traceback": [
      "\u001b[1;31m---------------------------------------------------------------------------\u001b[0m",
      "\u001b[1;31mNameError\u001b[0m                                 Traceback (most recent call last)",
      "\u001b[1;32m~\\AppData\\Local\\Temp/ipykernel_21908/225420966.py\u001b[0m in \u001b[0;36m<module>\u001b[1;34m\u001b[0m\n\u001b[0;32m      1\u001b[0m \u001b[0msns\u001b[0m\u001b[1;33m.\u001b[0m\u001b[0mcountplot\u001b[0m\u001b[1;33m(\u001b[0m\u001b[0mleads_data\u001b[0m\u001b[1;33m.\u001b[0m\u001b[0mCity\u001b[0m\u001b[1;33m)\u001b[0m\u001b[1;33m\u001b[0m\u001b[1;33m\u001b[0m\u001b[0m\n\u001b[1;32m----> 2\u001b[1;33m \u001b[0mxticks\u001b[0m\u001b[1;33m(\u001b[0m\u001b[0mrotation\u001b[0m \u001b[1;33m=\u001b[0m \u001b[1;36m90\u001b[0m\u001b[1;33m)\u001b[0m\u001b[1;33m\u001b[0m\u001b[1;33m\u001b[0m\u001b[0m\n\u001b[0m",
      "\u001b[1;31mNameError\u001b[0m: name 'xticks' is not defined"
     ]
    },
    {
     "data": {
      "image/png": "[encoded data removed]",
      "text/plain": [
       "<Figure size 432x288 with 1 Axes>"
      ]
     },
     "metadata": {
      "needs_background": "light"
     },
     "output_type": "display_data"
    }
   ],
   "source": [
    "sns.countplot(leads_data.City)\n",
    "xticks(rotation = 90)"
   ]
  },
  {
   "cell_type": "code",
   "execution_count": null,
   "id": "36fb70df",
   "metadata": {},
   "outputs": [],
   "source": [
    "plt.figure(figsize=(5,5))\n",
    "for i in range(len(cat_cols)):\n",
    "    sns.countplot(y = cat_cols[i],data = leads_data,hue='Converted')\n",
    "    plt.title(f'\\n\\n {cat_cols[i]}')\n",
    "    plt.xticks(rotation='vertical')\n",
    "    plt.show()\n"
   ]
  },
  {
   "cell_type": "code",
   "execution_count": null,
   "id": "3b2d69f5",
   "metadata": {
    "scrolled": true
   },
   "outputs": [],
   "source": [
    "#checking country column's values distribution\n",
    "leads_data.Country.value_counts()"
   ]
  },
  {
   "cell_type": "code",
   "execution_count": null,
   "id": "53b9ca5a",
   "metadata": {
    "scrolled": true
   },
   "outputs": [],
   "source": [
    "#checking Last Notable Activity column's values distribution\n",
    "leads_data['Last Notable Activity'].value_counts()"
   ]
  },
  {
   "cell_type": "code",
   "execution_count": null,
   "id": "2d8d734a",
   "metadata": {
    "scrolled": true
   },
   "outputs": [],
   "source": [
    "#checking Last Activity column's values distribution\n",
    "leads_data['Last Activity'].value_counts()"
   ]
  },
  {
   "cell_type": "markdown",
   "id": "ada3d40c",
   "metadata": {},
   "source": [
    "- replace the Had a Phone Conversation, Approached upfront, View in browser link Clicked, Email Received, Email Marked Spam ,Visited Booth in Tradeshow, Resubscribed to emails  with Others"
   ]
  },
  {
   "cell_type": "code",
   "execution_count": null,
   "id": "f77fbb1c",
   "metadata": {
    "scrolled": true
   },
   "outputs": [],
   "source": [
    "replace_cols=['Had a Phone Conversation', 'Approached upfront', 'View in browser link Clicked', 'Email Received', 'Email Marked Spam' ,'Visited Booth in Tradeshow', 'Resubscribed to emails']\n",
    "#adding new category others\n",
    "leads_data['Last Activity'].replace(replace_cols,'Other Activity',inplace=True)"
   ]
  },
  {
   "cell_type": "code",
   "execution_count": null,
   "id": "acb3cd20",
   "metadata": {
    "scrolled": true
   },
   "outputs": [],
   "source": [
    "leads_data['Last Activity'].value_counts()"
   ]
  },
  {
   "cell_type": "code",
   "execution_count": null,
   "id": "f0a6666b",
   "metadata": {
    "scrolled": true
   },
   "outputs": [],
   "source": [
    "#checking Tags column's values distribution\n",
    "leads_data['Tags'].value_counts()"
   ]
  },
  {
   "cell_type": "code",
   "execution_count": null,
   "id": "be83ecb0",
   "metadata": {
    "scrolled": true
   },
   "outputs": [],
   "source": [
    "## replacing the low count values of tags with other tags category\n",
    "leads_data['Tags'] = leads_data['Tags'].replace(['In confusion whether part time or DLP', 'in touch with EINS','Diploma holder (Not Eligible)',\n",
    "                                 'number not provided', 'opp hangup','Still Thinking',\n",
    "                                    'Lost to Others','Shall take in the next coming month','Lateral student','Interested in Next batch',\n",
    "                                    'Recognition issue (DEC approval)','Want to take admission but has financial problems',\n",
    "                                    'University not recognized','wrong number given'], 'Other_Tags')"
   ]
  },
  {
   "cell_type": "code",
   "execution_count": null,
   "id": "b57ff066",
   "metadata": {
    "scrolled": true
   },
   "outputs": [],
   "source": [
    "sns.countplot(y =leads_data['Tags'] ,data = leads_data)\n",
    "plt.show()"
   ]
  },
  {
   "cell_type": "code",
   "execution_count": null,
   "id": "43175280",
   "metadata": {
    "scrolled": true
   },
   "outputs": [],
   "source": [
    "#checking Lead Source column's values distribution\n",
    "leads_data['Lead Source'].value_counts()"
   ]
  },
  {
   "cell_type": "markdown",
   "id": "16085ef0",
   "metadata": {},
   "source": [
    "\n",
    "- Also, let's add Click2call, Press_Release, Social Media, Live Chat, youtubechannel, testone, Pay per Click Ads,   welearnblog_Home, WeLearn, blog and NC_EDM to **Others** Category for Lead Source Column"
   ]
  },
  {
   "cell_type": "code",
   "execution_count": null,
   "id": "b29d16ad",
   "metadata": {
    "scrolled": true
   },
   "outputs": [],
   "source": [
    "\n",
    "#adding new category others\n",
    "leads_data['Lead Source'].replace(['Click2call', 'Press_Release', 'Social Media', 'Live Chat', 'youtubechannel', 'testone', 'Pay per Click Ads', 'welearnblog_Home', 'WeLearn', 'blog','NC_EDM','bing'],'Others',inplace=True)"
   ]
  },
  {
   "cell_type": "code",
   "execution_count": null,
   "id": "efcd1327",
   "metadata": {
    "scrolled": true
   },
   "outputs": [],
   "source": [
    "sns.countplot(y =leads_data['Lead Source'] ,data = leads_data)\n",
    "plt.show()"
   ]
  },
  {
   "cell_type": "code",
   "execution_count": null,
   "id": "b5fd53e7",
   "metadata": {
    "scrolled": true
   },
   "outputs": [],
   "source": [
    "leads_data['Lead Profile'].value_counts()"
   ]
  },
  {
   "cell_type": "markdown",
   "id": "ab33813a",
   "metadata": {},
   "source": [
    "**Observation**\n",
    "-  Maximum lead conversion happened:\n",
    "    - Lead Origin as Landing Page Submission\n",
    "    - leads prefer calls, digital advertisement and emails\n",
    "    - Leads come through recommendations and by searching courses online\n",
    "    - leads who were unemployed and working proffessional\n",
    "    - leads who are visiting the site for better career prospects \n",
    "    - from city Mumbai\n",
    "- The company must not put some resources in the Lead Add form as it has least Converted counts.\n",
    "- Top sites from which positive leads are generated are\n",
    "    - Olark Chat\n",
    "    - Organic Search\n",
    "    - Direct traffic\n",
    "    - Google\n",
    "    - The conversion rate from reference,Welingak Website are the highest\n",
    "- There is no discrenable inferences can be made between specialization chosen and conversion rate\n",
    "\n",
    "**Other insights:**\n",
    "- **Country** columns doesn't give that much of information as most of the data belongs to India.\n",
    "- **What matters most to you in choosing a course** column is biased towards Better Career Prospects.\n",
    "- **Last notable Activity** and **Last Activity** seems same, so **Last notable Activity** can be dropped."
   ]
  },
  {
   "cell_type": "code",
   "execution_count": null,
   "id": "eeb4b23f",
   "metadata": {
    "scrolled": true
   },
   "outputs": [],
   "source": [
    "#dropping the above mentioned columns\n",
    "leads_data.drop(['Country','What matters most to you in choosing a course','Last Notable Activity'],axis=1,inplace=True)"
   ]
  },
  {
   "cell_type": "code",
   "execution_count": null,
   "id": "8b458131",
   "metadata": {
    "scrolled": true
   },
   "outputs": [],
   "source": [
    "leads_data.shape"
   ]
  },
  {
   "cell_type": "code",
   "execution_count": null,
   "id": "0c64d203",
   "metadata": {
    "scrolled": true
   },
   "outputs": [],
   "source": [
    "leads_data.columns"
   ]
  },
  {
   "cell_type": "markdown",
   "id": "efc761ee",
   "metadata": {},
   "source": [
    "- After cleaning we are left with 22 columns"
   ]
  },
  {
   "cell_type": "markdown",
   "id": "242b656a",
   "metadata": {},
   "source": [
    "## 4. Data Preparation"
   ]
  },
  {
   "cell_type": "markdown",
   "id": "e5f575c6",
   "metadata": {},
   "source": [
    "### Handling Binary Categorical Columns"
   ]
  },
  {
   "cell_type": "code",
   "execution_count": null,
   "id": "219f4e7f",
   "metadata": {
    "scrolled": true
   },
   "outputs": [],
   "source": [
    "bin_cat_cols"
   ]
  },
  {
   "cell_type": "markdown",
   "id": "0786720e",
   "metadata": {},
   "source": [
    "#### Let's convert all the binary columns into numerical columns"
   ]
  },
  {
   "cell_type": "code",
   "execution_count": null,
   "id": "dec4253b",
   "metadata": {
    "scrolled": true
   },
   "outputs": [],
   "source": [
    "# converting the Yes to 1 and No to 0 \n",
    "for feature in bin_cat_cols:\n",
    "    leads_data[feature] = leads_data[feature].apply(lambda x : 1 if x=='Yes' else 0 )"
   ]
  },
  {
   "cell_type": "code",
   "execution_count": null,
   "id": "390563cf",
   "metadata": {},
   "outputs": [],
   "source": [
    "for i in bin_cat_cols:\n",
    "    print(leads_data[i].value_counts())\n",
    "    print('\\n')"
   ]
  },
  {
   "cell_type": "markdown",
   "id": "9983a8b9",
   "metadata": {},
   "source": [
    "Looks Good!"
   ]
  },
  {
   "cell_type": "markdown",
   "id": "e7f55349",
   "metadata": {},
   "source": [
    "### Checking the correlation coefficients"
   ]
  },
  {
   "cell_type": "code",
   "execution_count": null,
   "id": "f09044c5",
   "metadata": {
    "scrolled": true
   },
   "outputs": [],
   "source": [
    "corr=leads_data.corr()"
   ]
  },
  {
   "cell_type": "code",
   "execution_count": null,
   "id": "25dc89d1",
   "metadata": {
    "scrolled": true
   },
   "outputs": [],
   "source": [
    "mask = np.zeros_like(corr)\n",
    "mask[np.triu_indices_from(mask)] = True"
   ]
  },
  {
   "cell_type": "code",
   "execution_count": null,
   "id": "2948e178",
   "metadata": {
    "scrolled": true
   },
   "outputs": [],
   "source": [
    "plt.figure(figsize = (18, 5))\n",
    "sns.heatmap(leads_data.corr(), mask=mask,annot = True, cmap=\"YlGnBu\")\n",
    "plt.show()"
   ]
  },
  {
   "cell_type": "markdown",
   "id": "3c4f3031",
   "metadata": {},
   "source": [
    "**Observation**\n",
    "- Newspaper article is highly correlated with X educational forums. So, we can drop \"Newspaper Article\" as we have another column as \"newspaper\"\n",
    "- X educational Forums is positively correlated with Digital Advertisement and Through Recommendations\n",
    "- Converted is positively correlated with total time spent on website"
   ]
  },
  {
   "cell_type": "code",
   "execution_count": null,
   "id": "8bfbef1c",
   "metadata": {
    "scrolled": true
   },
   "outputs": [],
   "source": [
    "# dropping the column\n",
    "leads_data.drop('Newspaper Article',axis=1,inplace=True)"
   ]
  },
  {
   "cell_type": "code",
   "execution_count": null,
   "id": "4f3d0b43",
   "metadata": {
    "scrolled": true
   },
   "outputs": [],
   "source": [
    "#checking the remaining features\n",
    "leads_data.info()"
   ]
  },
  {
   "cell_type": "markdown",
   "id": "c6b9c2f8",
   "metadata": {},
   "source": [
    "### Dummy Variable Creation"
   ]
  },
  {
   "cell_type": "code",
   "execution_count": null,
   "id": "008f237e",
   "metadata": {
    "scrolled": true
   },
   "outputs": [],
   "source": [
    "cat_cols=list(leads_data.select_dtypes(['object','category']).columns)\n",
    "leads_data[cat_cols].head()"
   ]
  },
  {
   "cell_type": "code",
   "execution_count": null,
   "id": "cf422e9f",
   "metadata": {},
   "outputs": [],
   "source": [
    "for i in cat_cols:\n",
    "    print(leads_data[i].value_counts())\n",
    "    print('\\n')"
   ]
  },
  {
   "cell_type": "code",
   "execution_count": null,
   "id": "c17399fd",
   "metadata": {
    "scrolled": true
   },
   "outputs": [],
   "source": [
    "cat_cols"
   ]
  },
  {
   "cell_type": "markdown",
   "id": "78370dd9",
   "metadata": {},
   "source": [
    "#### Let's use the below features\n",
    "- Lead Origin'\n",
    "- Lead Source'\n",
    "- 'TotalVisits'\n",
    "- 'Page Views Per Visit'\n",
    "- 'Specialization'\n",
    "- 'How did you hear about X Education\n",
    "<!-- - 'What is your current occupation\n",
    "- Tags -->\n",
    "- Last Activity\n",
    "- Lead Profile\n",
    "- city"
   ]
  },
  {
   "cell_type": "code",
   "execution_count": null,
   "id": "9c893237",
   "metadata": {},
   "outputs": [],
   "source": [
    "cat_cols.remove('Tags')\n",
    "cat_cols.remove('Last Activity')"
   ]
  },
  {
   "cell_type": "code",
   "execution_count": null,
   "id": "2ce863e4",
   "metadata": {},
   "outputs": [],
   "source": [
    "# dropping Last Activity and Tags as they seem to be coming from sales team after contacting the lead"
   ]
  },
  {
   "cell_type": "code",
   "execution_count": null,
   "id": "a3879538",
   "metadata": {},
   "outputs": [],
   "source": [
    "leads_data.drop(['Last Activity','Tags'],axis=1,inplace=True)"
   ]
  },
  {
   "cell_type": "code",
   "execution_count": null,
   "id": "a1ac290c",
   "metadata": {},
   "outputs": [],
   "source": [
    "ls = pd.get_dummies(leads_data['Lead Source'], prefix='Lead Source')\n",
    "# Dropping Lead Source_Others column\n",
    "ls = ls.drop(['Lead Source_Others'], axis=1)\n",
    "#Adding the results to the master dataframe\n",
    "leads_data = pd.concat([leads_data,ls], axis=1)"
   ]
  },
  {
   "cell_type": "code",
   "execution_count": null,
   "id": "d1795fb3",
   "metadata": {},
   "outputs": [],
   "source": [
    "sp = pd.get_dummies(leads_data['Specialization'], prefix='Specialization')\n",
    "# Dropping Specialization_Unknown column\n",
    "sp = sp.drop(['Specialization_Unknown'], axis=1)\n",
    "#Adding the results to the master dataframe\n",
    "leads_data = pd.concat([leads_data,sp], axis=1)"
   ]
  },
  {
   "cell_type": "code",
   "execution_count": null,
   "id": "17cdc48f",
   "metadata": {},
   "outputs": [],
   "source": [
    "hh = pd.get_dummies(leads_data['How did you hear about X Education'], prefix='How did you hear about X Education')\n",
    "# Dropping How did you hear about X Education_Other column\n",
    "hh = hh.drop(['How did you hear about X Education_Other'], axis=1)\n",
    "#Adding the results to the master dataframe\n",
    "leads_data = pd.concat([leads_data,hh], axis=1)"
   ]
  },
  {
   "cell_type": "code",
   "execution_count": null,
   "id": "036380e8",
   "metadata": {},
   "outputs": [],
   "source": [
    "occ = pd.get_dummies(leads_data['What is your current occupation'], prefix='What is your current occupation')\n",
    "# Dropping What is your current occupation_Other column\n",
    "occ = occ.drop(['What is your current occupation_Other'], axis=1)\n",
    "#Adding the results to the master dataframe\n",
    "leads_data = pd.concat([leads_data,occ], axis=1)"
   ]
  },
  {
   "cell_type": "code",
   "execution_count": null,
   "id": "4b05cdae",
   "metadata": {},
   "outputs": [],
   "source": [
    "lp = pd.get_dummies(leads_data['Lead Profile'], prefix='Lead Profile')\n",
    "# Dropping Lead Profile_Other Leads column\n",
    "lp = lp.drop(['Lead Profile_Other Leads'], axis=1)\n",
    "#Adding the results to the master dataframe\n",
    "leads_data = pd.concat([leads_data,lp], axis=1)"
   ]
  },
  {
   "cell_type": "code",
   "execution_count": null,
   "id": "858e4e24",
   "metadata": {},
   "outputs": [],
   "source": [
    "city = pd.get_dummies(leads_data['City'], prefix='City')\n",
    "# Dropping City_Other Cities column\n",
    "city = city.drop(['City_Other Cities'], axis=1)\n",
    "#Adding the results to the master dataframe\n",
    "leads_data = pd.concat([leads_data,city], axis=1)"
   ]
  },
  {
   "cell_type": "code",
   "execution_count": null,
   "id": "b71d7651",
   "metadata": {},
   "outputs": [],
   "source": [
    "dummies=pd.get_dummies(leads_data[['Lead Origin', 'TotalVisits',\n",
    " 'Page Views Per Visit']], drop_first=True)\n",
    "leads_data = pd.concat([leads_data, dummies], axis=1)"
   ]
  },
  {
   "cell_type": "code",
   "execution_count": null,
   "id": "205bd2a3",
   "metadata": {
    "scrolled": true
   },
   "outputs": [],
   "source": [
    "leads_data.info(verbose=True)"
   ]
  },
  {
   "cell_type": "markdown",
   "id": "f6be680b",
   "metadata": {},
   "source": [
    "- let's drop the original categorical columns"
   ]
  },
  {
   "cell_type": "code",
   "execution_count": null,
   "id": "96431a3d",
   "metadata": {},
   "outputs": [],
   "source": [
    "cat_cols"
   ]
  },
  {
   "cell_type": "code",
   "execution_count": null,
   "id": "dcf9e00e",
   "metadata": {
    "scrolled": true
   },
   "outputs": [],
   "source": [
    "leads_data.drop(cat_cols,axis=1,inplace=True)"
   ]
  },
  {
   "cell_type": "code",
   "execution_count": null,
   "id": "e9ab45bf",
   "metadata": {
    "scrolled": true
   },
   "outputs": [],
   "source": [
    "leads_data.info(verbose=True)"
   ]
  },
  {
   "cell_type": "markdown",
   "id": "662dec75",
   "metadata": {},
   "source": [
    "### Correlation check for training"
   ]
  },
  {
   "cell_type": "code",
   "execution_count": null,
   "id": "de33f565",
   "metadata": {
    "scrolled": true
   },
   "outputs": [],
   "source": [
    "corr=leads_data.corr()\n",
    "mask = np.zeros_like(corr)\n",
    "mask[np.triu_indices_from(mask)] = True"
   ]
  },
  {
   "cell_type": "code",
   "execution_count": null,
   "id": "ec0710b9",
   "metadata": {
    "scrolled": true
   },
   "outputs": [],
   "source": [
    "plt.figure(figsize = (40,30))\n",
    "sns.heatmap(corr,mask=mask,annot = True)\n",
    "plt.show()"
   ]
  },
  {
   "cell_type": "markdown",
   "id": "dc449c8c",
   "metadata": {},
   "source": [
    "- It's not that clear here. We will look into the correlation in feature selection step"
   ]
  },
  {
   "cell_type": "markdown",
   "id": "ea94049e",
   "metadata": {},
   "source": [
    "## 5. Test-Train Split"
   ]
  },
  {
   "cell_type": "code",
   "execution_count": null,
   "id": "5147a2b9",
   "metadata": {
    "scrolled": true
   },
   "outputs": [],
   "source": [
    "# Putting feature variable to X\n",
    "Y = leads_data.pop('Converted')\n",
    "X=leads_data\n",
    "X.head()"
   ]
  },
  {
   "cell_type": "code",
   "execution_count": null,
   "id": "c4c894fd",
   "metadata": {
    "scrolled": true
   },
   "outputs": [],
   "source": [
    "Y.head()"
   ]
  },
  {
   "cell_type": "code",
   "execution_count": null,
   "id": "32c6dc42",
   "metadata": {
    "scrolled": true
   },
   "outputs": [],
   "source": [
    "# Splitting the data into train and test\n",
    "X_train, X_test, y_train, y_test = train_test_split(X, Y, train_size=0.7, test_size=0.3, random_state=100)"
   ]
  },
  {
   "cell_type": "markdown",
   "id": "ec448b8a",
   "metadata": {},
   "source": [
    "## 6. Standardization"
   ]
  },
  {
   "cell_type": "code",
   "execution_count": null,
   "id": "4fbeb50e",
   "metadata": {
    "scrolled": true
   },
   "outputs": [],
   "source": [
    "leads_data.select_dtypes(['int64','float64'])"
   ]
  },
  {
   "cell_type": "markdown",
   "id": "c8d13126",
   "metadata": {},
   "source": [
    "#### We only need to standardize column **Total Time Spent on Website**"
   ]
  },
  {
   "cell_type": "code",
   "execution_count": null,
   "id": "171ea84d",
   "metadata": {
    "scrolled": true
   },
   "outputs": [],
   "source": [
    "scaler = StandardScaler()\n",
    "#scaling the columns\n",
    "X_train[['Total Time Spent on Website']] = scaler.fit_transform(X_train[['Total Time Spent on Website']])\n",
    "X_train.head()"
   ]
  },
  {
   "cell_type": "markdown",
   "id": "4d0a2fc0",
   "metadata": {},
   "source": [
    "#### Now let's get started with our model"
   ]
  },
  {
   "cell_type": "markdown",
   "id": "9a4e7544",
   "metadata": {},
   "source": [
    "## 7. Model Building"
   ]
  },
  {
   "cell_type": "markdown",
   "id": "5c0c7a32",
   "metadata": {},
   "source": [
    "- First training model"
   ]
  },
  {
   "cell_type": "code",
   "execution_count": null,
   "id": "0e0c24ee",
   "metadata": {},
   "outputs": [],
   "source": [
    "leads_data.columns"
   ]
  },
  {
   "cell_type": "code",
   "execution_count": null,
   "id": "42fa9306",
   "metadata": {
    "scrolled": true
   },
   "outputs": [],
   "source": [
    "# Logistic regression model\n",
    "logm_1 = sm.GLM(y_train,(sm.add_constant(X_train)), family = sm.families.Binomial())\n",
    "logm_1.fit().summary()"
   ]
  },
  {
   "cell_type": "code",
   "execution_count": null,
   "id": "890d4eda",
   "metadata": {},
   "outputs": [],
   "source": [
    "X_train.info()"
   ]
  },
  {
   "cell_type": "markdown",
   "id": "03d8ae9c",
   "metadata": {},
   "source": [
    "### 8: Feature Selection Using RFE"
   ]
  },
  {
   "cell_type": "code",
   "execution_count": null,
   "id": "ed8589e7",
   "metadata": {
    "scrolled": true
   },
   "outputs": [],
   "source": [
    "logReg = LogisticRegression()"
   ]
  },
  {
   "cell_type": "code",
   "execution_count": null,
   "id": "07f3a77c",
   "metadata": {
    "scrolled": true
   },
   "outputs": [],
   "source": [
    "rfe = RFE(logReg, 30)             # running RFE with 30 variables as output\n",
    "rfe = rfe.fit(X_train, y_train)"
   ]
  },
  {
   "cell_type": "code",
   "execution_count": null,
   "id": "7a5ca436",
   "metadata": {
    "scrolled": true
   },
   "outputs": [],
   "source": [
    "list(zip(X_train.columns, rfe.support_, rfe.ranking_))"
   ]
  },
  {
   "cell_type": "markdown",
   "id": "78649aef",
   "metadata": {},
   "source": [
    "### Selected Columns"
   ]
  },
  {
   "cell_type": "code",
   "execution_count": null,
   "id": "f3573ba7",
   "metadata": {
    "scrolled": true
   },
   "outputs": [],
   "source": [
    "selected_cols = X_train.columns[rfe.support_]\n",
    "selected_cols"
   ]
  },
  {
   "cell_type": "markdown",
   "id": "700b3d35",
   "metadata": {},
   "source": [
    "### Unselected Columns"
   ]
  },
  {
   "cell_type": "code",
   "execution_count": null,
   "id": "9a78f22f",
   "metadata": {
    "scrolled": true
   },
   "outputs": [],
   "source": [
    "X_train.columns[~rfe.support_]"
   ]
  },
  {
   "cell_type": "code",
   "execution_count": null,
   "id": "e70fb2d4",
   "metadata": {
    "scrolled": true
   },
   "outputs": [],
   "source": [
    "#using columns supported by rfe\n",
    "\n",
    "X_train_sm = sm.add_constant(X_train[selected_cols])\n",
    "logm_2 = sm.GLM(y_train,X_train_sm, family = sm.families.Binomial())\n",
    "res = logm_2.fit()\n",
    "res.summary()"
   ]
  },
  {
   "cell_type": "markdown",
   "id": "c5491578",
   "metadata": {},
   "source": [
    "#### Checking VIFs"
   ]
  },
  {
   "cell_type": "code",
   "execution_count": null,
   "id": "2ffd4a5e",
   "metadata": {
    "scrolled": true
   },
   "outputs": [],
   "source": [
    "vif = pd.DataFrame()\n",
    "vif['Features'] = X_train[selected_cols].columns\n",
    "vif['VIF'] = [variance_inflation_factor(X_train[selected_cols].values, i) for i in range(X_train[selected_cols].shape[1])]\n",
    "vif['VIF'] = round(vif['VIF'], 2)\n",
    "vif = vif.sort_values(by = \"VIF\", ascending = False)\n",
    "vif"
   ]
  },
  {
   "cell_type": "markdown",
   "id": "06fe87d5",
   "metadata": {},
   "source": [
    "- Features with very High p value:\n",
    "    - Newspaper\n",
    "    - Digital Advertisement\n",
    "    - Lead Profile_Dual Specialization Student\n",
    "    - What is your current occupation_Housewife\n",
    "    - Lead Source_Facebook"
   ]
  },
  {
   "cell_type": "markdown",
   "id": "d976fca8",
   "metadata": {},
   "source": [
    "**Following the below approach:**\n",
    "- High p-value,high Vif - **drop the variables**\n",
    "- High Low\n",
    "    - High p-value, low Vif :remove these first\n",
    "    - Low p-value, high Vif: remove after the ones above\n",
    "- Low p, low VIF - **keep the variables**"
   ]
  },
  {
   "cell_type": "markdown",
   "id": "63586623",
   "metadata": {},
   "source": [
    "- Dropping **Newspaper**"
   ]
  },
  {
   "cell_type": "code",
   "execution_count": null,
   "id": "27d777bd",
   "metadata": {
    "scrolled": true
   },
   "outputs": [],
   "source": [
    "selected_cols=selected_cols.drop('Newspaper')\n",
    "selected_cols"
   ]
  },
  {
   "cell_type": "markdown",
   "id": "85b5cb9e",
   "metadata": {},
   "source": [
    "#### Building the model again"
   ]
  },
  {
   "cell_type": "code",
   "execution_count": null,
   "id": "e9690279",
   "metadata": {
    "scrolled": true
   },
   "outputs": [],
   "source": [
    "X_train_sm = sm.add_constant(X_train[selected_cols])\n",
    "logm_3 = sm.GLM(y_train,X_train_sm, family = sm.families.Binomial())\n",
    "res = logm_3.fit()\n",
    "res.summary()"
   ]
  },
  {
   "cell_type": "markdown",
   "id": "739ce45c",
   "metadata": {},
   "source": [
    "#### Checking VIFs"
   ]
  },
  {
   "cell_type": "code",
   "execution_count": null,
   "id": "b7afd94a",
   "metadata": {
    "scrolled": true
   },
   "outputs": [],
   "source": [
    "vif = pd.DataFrame()\n",
    "vif['Features'] = X_train[selected_cols].columns\n",
    "vif['VIF'] = [variance_inflation_factor(X_train[selected_cols].values, i) for i in range(X_train[selected_cols].shape[1])]\n",
    "vif['VIF'] = round(vif['VIF'], 2)\n",
    "vif = vif.sort_values(by = \"VIF\", ascending = False)\n",
    "vif"
   ]
  },
  {
   "cell_type": "markdown",
   "id": "d6ed0159",
   "metadata": {},
   "source": [
    "- P-value of Digital Advertisement is still very high,let's drop it.\n",
    "- Also there is no change in the pattern of Vif values"
   ]
  },
  {
   "cell_type": "markdown",
   "id": "e09cf0ea",
   "metadata": {},
   "source": [
    "- Dropping **Digital Advertisement**"
   ]
  },
  {
   "cell_type": "code",
   "execution_count": null,
   "id": "00f706b5",
   "metadata": {
    "scrolled": true
   },
   "outputs": [],
   "source": [
    "selected_cols=selected_cols.drop('Digital Advertisement')\n",
    "selected_cols"
   ]
  },
  {
   "cell_type": "markdown",
   "id": "68ee3906",
   "metadata": {},
   "source": [
    "#### Building the model again"
   ]
  },
  {
   "cell_type": "code",
   "execution_count": null,
   "id": "2e9dafd0",
   "metadata": {
    "scrolled": true
   },
   "outputs": [],
   "source": [
    "X_train_sm = sm.add_constant(X_train[selected_cols])\n",
    "logm_4 = sm.GLM(y_train,X_train_sm, family = sm.families.Binomial())\n",
    "res = logm_4.fit()\n",
    "res.summary()"
   ]
  },
  {
   "cell_type": "markdown",
   "id": "e6686971",
   "metadata": {},
   "source": [
    "#### Checking VIFs"
   ]
  },
  {
   "cell_type": "code",
   "execution_count": null,
   "id": "27374fba",
   "metadata": {
    "scrolled": true
   },
   "outputs": [],
   "source": [
    "vif = pd.DataFrame()\n",
    "vif['Features'] = X_train[selected_cols].columns\n",
    "vif['VIF'] = [variance_inflation_factor(X_train[selected_cols].values, i) for i in range(X_train[selected_cols].shape[1])]\n",
    "vif['VIF'] = round(vif['VIF'], 2)\n",
    "vif = vif.sort_values(by = \"VIF\", ascending = False)\n",
    "vif"
   ]
  },
  {
   "cell_type": "markdown",
   "id": "aaf0ce5a",
   "metadata": {},
   "source": [
    "- P-values of Lead Profile_Dual Specialization Student and What is your current occupation_Housewife is still very high\n",
    "- lets's drop Lead Profile_Dual Specialization"
   ]
  },
  {
   "cell_type": "markdown",
   "id": "f7aa24d6",
   "metadata": {},
   "source": [
    "- Dropping **Lead Profile_Dual Specialization Student**"
   ]
  },
  {
   "cell_type": "code",
   "execution_count": null,
   "id": "94167e01",
   "metadata": {
    "scrolled": true
   },
   "outputs": [],
   "source": [
    "selected_cols=selected_cols.drop('Lead Profile_Dual Specialization Student')\n",
    "selected_cols"
   ]
  },
  {
   "cell_type": "markdown",
   "id": "da5ecf65",
   "metadata": {},
   "source": [
    "#### Building the model again"
   ]
  },
  {
   "cell_type": "code",
   "execution_count": null,
   "id": "9d1b89ba",
   "metadata": {
    "scrolled": true
   },
   "outputs": [],
   "source": [
    "X_train_sm = sm.add_constant(X_train[selected_cols])\n",
    "logm_5 = sm.GLM(y_train,X_train_sm, family = sm.families.Binomial())\n",
    "res = logm_5.fit()\n",
    "res.summary()"
   ]
  },
  {
   "cell_type": "markdown",
   "id": "31d1fe9b",
   "metadata": {},
   "source": [
    "#### Checking VIFs"
   ]
  },
  {
   "cell_type": "code",
   "execution_count": null,
   "id": "f89ff6ed",
   "metadata": {
    "scrolled": true
   },
   "outputs": [],
   "source": [
    "vif = pd.DataFrame()\n",
    "vif['Features'] = X_train[selected_cols].columns\n",
    "vif['VIF'] = [variance_inflation_factor(X_train[selected_cols].values, i) for i in range(X_train[selected_cols].shape[1])]\n",
    "vif['VIF'] = round(vif['VIF'], 2)\n",
    "vif = vif.sort_values(by = \"VIF\", ascending = False)\n",
    "vif"
   ]
  },
  {
   "cell_type": "markdown",
   "id": "42215751",
   "metadata": {},
   "source": [
    "- P-value of What is your current occupation_Housewife is still high. So, Let's drop it"
   ]
  },
  {
   "cell_type": "markdown",
   "id": "448f5776",
   "metadata": {},
   "source": [
    "- Dropping **What is your current occupation_Housewife**"
   ]
  },
  {
   "cell_type": "code",
   "execution_count": null,
   "id": "ebeee524",
   "metadata": {
    "scrolled": true
   },
   "outputs": [],
   "source": [
    "selected_cols=selected_cols.drop('What is your current occupation_Housewife')\n",
    "selected_cols"
   ]
  },
  {
   "cell_type": "markdown",
   "id": "1557a1aa",
   "metadata": {},
   "source": [
    "#### Building the model again"
   ]
  },
  {
   "cell_type": "code",
   "execution_count": null,
   "id": "54d4d948",
   "metadata": {
    "scrolled": true
   },
   "outputs": [],
   "source": [
    "X_train_sm = sm.add_constant(X_train[selected_cols])\n",
    "logm_5 = sm.GLM(y_train,X_train_sm, family = sm.families.Binomial())\n",
    "res = logm_5.fit()\n",
    "res.summary()"
   ]
  },
  {
   "cell_type": "markdown",
   "id": "78f265c3",
   "metadata": {},
   "source": [
    "#### Checking VIFs"
   ]
  },
  {
   "cell_type": "code",
   "execution_count": null,
   "id": "398c9778",
   "metadata": {
    "scrolled": true
   },
   "outputs": [],
   "source": [
    "vif = pd.DataFrame()\n",
    "vif['Features'] = X_train[selected_cols].columns\n",
    "vif['VIF'] = [variance_inflation_factor(X_train[selected_cols].values, i) for i in range(X_train[selected_cols].shape[1])]\n",
    "vif['VIF'] = round(vif['VIF'], 2)\n",
    "vif = vif.sort_values(by = \"VIF\", ascending = False)\n",
    "vif"
   ]
  },
  {
   "cell_type": "markdown",
   "id": "eb7c93e7",
   "metadata": {},
   "source": [
    "- Still, there are features with high p-value\n",
    "    - Lead Source_Facebook\n",
    "    - Lead Origin_Lead Import\t\n",
    "    - Specialization_E-COMMERCE\t\n",
    "    - Specialization_Rural and Agribusiness\t\n",
    "    - Lead Source_Referral Sites\n",
    "    - How did you hear about X Education_Emai\n",
    "    - Page Views Per Visit_above-12_Page_views_per_visit"
   ]
  },
  {
   "cell_type": "markdown",
   "id": "fd69f099",
   "metadata": {},
   "source": [
    "- let's drop Lead Source_Facebook with high p value and high VIF as well"
   ]
  },
  {
   "cell_type": "markdown",
   "id": "fde4628f",
   "metadata": {},
   "source": [
    "- Dropping **Lead Source_Facebook**"
   ]
  },
  {
   "cell_type": "code",
   "execution_count": null,
   "id": "783901a6",
   "metadata": {
    "scrolled": true
   },
   "outputs": [],
   "source": [
    "selected_cols=selected_cols.drop('Lead Source_Facebook')\n",
    "selected_cols"
   ]
  },
  {
   "cell_type": "markdown",
   "id": "62e66310",
   "metadata": {},
   "source": [
    "#### Building the model again"
   ]
  },
  {
   "cell_type": "code",
   "execution_count": null,
   "id": "4fcd7d5f",
   "metadata": {
    "scrolled": true
   },
   "outputs": [],
   "source": [
    "X_train_sm = sm.add_constant(X_train[selected_cols])\n",
    "logm_5 = sm.GLM(y_train,X_train_sm, family = sm.families.Binomial())\n",
    "res = logm_5.fit()\n",
    "res.summary()"
   ]
  },
  {
   "cell_type": "markdown",
   "id": "8091709d",
   "metadata": {},
   "source": [
    "#### Checking VIFs"
   ]
  },
  {
   "cell_type": "code",
   "execution_count": null,
   "id": "d065ca19",
   "metadata": {
    "scrolled": true
   },
   "outputs": [],
   "source": [
    "vif = pd.DataFrame()\n",
    "vif['Features'] = X_train[selected_cols].columns\n",
    "vif['VIF'] = [variance_inflation_factor(X_train[selected_cols].values, i) for i in range(X_train[selected_cols].shape[1])]\n",
    "vif['VIF'] = round(vif['VIF'], 2)\n",
    "vif = vif.sort_values(by = \"VIF\", ascending = False)\n",
    "vif"
   ]
  },
  {
   "cell_type": "markdown",
   "id": "8c19d7e2",
   "metadata": {},
   "source": [
    "- P-value of Specialization_E-COMMERCE is still high. So, Let's drop it.\n",
    "- Also , VIF values have dropped"
   ]
  },
  {
   "cell_type": "markdown",
   "id": "6b390cb7",
   "metadata": {},
   "source": [
    "- Dropping **Specialization_E-COMMERCE**"
   ]
  },
  {
   "cell_type": "code",
   "execution_count": null,
   "id": "205e1c92",
   "metadata": {
    "scrolled": true
   },
   "outputs": [],
   "source": [
    "selected_cols=selected_cols.drop('Specialization_E-COMMERCE')\n",
    "selected_cols"
   ]
  },
  {
   "cell_type": "markdown",
   "id": "bdcd5057",
   "metadata": {},
   "source": [
    "#### Building the model again"
   ]
  },
  {
   "cell_type": "code",
   "execution_count": null,
   "id": "7c02db98",
   "metadata": {
    "scrolled": true
   },
   "outputs": [],
   "source": [
    "X_train_sm = sm.add_constant(X_train[selected_cols])\n",
    "logm_5 = sm.GLM(y_train,X_train_sm, family = sm.families.Binomial())\n",
    "res = logm_5.fit()\n",
    "res.summary()"
   ]
  },
  {
   "cell_type": "markdown",
   "id": "018f5082",
   "metadata": {},
   "source": [
    "#### Checking VIFs"
   ]
  },
  {
   "cell_type": "code",
   "execution_count": null,
   "id": "0f98311f",
   "metadata": {
    "scrolled": true
   },
   "outputs": [],
   "source": [
    "vif = pd.DataFrame()\n",
    "vif['Features'] = X_train[selected_cols].columns\n",
    "vif['VIF'] = [variance_inflation_factor(X_train[selected_cols].values, i) for i in range(X_train[selected_cols].shape[1])]\n",
    "vif['VIF'] = round(vif['VIF'], 2)\n",
    "vif = vif.sort_values(by = \"VIF\", ascending = False)\n",
    "vif"
   ]
  },
  {
   "cell_type": "markdown",
   "id": "a49450cc",
   "metadata": {},
   "source": [
    "- P-value of Specialization_Rural and Agribusiness is still high. So, Let's drop it"
   ]
  },
  {
   "cell_type": "markdown",
   "id": "a9e3a6af",
   "metadata": {},
   "source": [
    "- Dropping **Specialization_Rural and Agribusiness**"
   ]
  },
  {
   "cell_type": "code",
   "execution_count": null,
   "id": "62699b39",
   "metadata": {
    "scrolled": true
   },
   "outputs": [],
   "source": [
    "selected_cols=selected_cols.drop('Specialization_Rural and Agribusiness')\n",
    "selected_cols"
   ]
  },
  {
   "cell_type": "markdown",
   "id": "de8edfa3",
   "metadata": {},
   "source": [
    "#### Building the model again"
   ]
  },
  {
   "cell_type": "code",
   "execution_count": null,
   "id": "cd76e526",
   "metadata": {
    "scrolled": true
   },
   "outputs": [],
   "source": [
    "X_train_sm = sm.add_constant(X_train[selected_cols])\n",
    "logm_5 = sm.GLM(y_train,X_train_sm, family = sm.families.Binomial())\n",
    "res = logm_5.fit()\n",
    "res.summary()"
   ]
  },
  {
   "cell_type": "markdown",
   "id": "3e5e38e5",
   "metadata": {},
   "source": [
    "#### Checking VIFs"
   ]
  },
  {
   "cell_type": "code",
   "execution_count": null,
   "id": "4e720639",
   "metadata": {
    "scrolled": true
   },
   "outputs": [],
   "source": [
    "vif = pd.DataFrame()\n",
    "vif['Features'] = X_train[selected_cols].columns\n",
    "vif['VIF'] = [variance_inflation_factor(X_train[selected_cols].values, i) for i in range(X_train[selected_cols].shape[1])]\n",
    "vif['VIF'] = round(vif['VIF'], 2)\n",
    "vif = vif.sort_values(by = \"VIF\", ascending = False)\n",
    "vif"
   ]
  },
  {
   "cell_type": "markdown",
   "id": "60cb327e",
   "metadata": {},
   "source": [
    "- P-value of Lead Source_Referral Sites is still high. So, Let's drop it"
   ]
  },
  {
   "cell_type": "markdown",
   "id": "8704bb0e",
   "metadata": {},
   "source": [
    "- Dropping **Lead Source_Referral Sites**"
   ]
  },
  {
   "cell_type": "code",
   "execution_count": null,
   "id": "5158ec21",
   "metadata": {
    "scrolled": true
   },
   "outputs": [],
   "source": [
    "selected_cols=selected_cols.drop('Lead Source_Referral Sites')\n",
    "selected_cols"
   ]
  },
  {
   "cell_type": "markdown",
   "id": "8b3ac758",
   "metadata": {},
   "source": [
    "#### Building the model again"
   ]
  },
  {
   "cell_type": "code",
   "execution_count": null,
   "id": "3f3a6a67",
   "metadata": {
    "scrolled": true
   },
   "outputs": [],
   "source": [
    "X_train_sm = sm.add_constant(X_train[selected_cols])\n",
    "logm_5 = sm.GLM(y_train,X_train_sm, family = sm.families.Binomial())\n",
    "res = logm_5.fit()\n",
    "res.summary()"
   ]
  },
  {
   "cell_type": "markdown",
   "id": "ace30aa8",
   "metadata": {},
   "source": [
    "#### Checking VIFs"
   ]
  },
  {
   "cell_type": "code",
   "execution_count": null,
   "id": "a40ca914",
   "metadata": {
    "scrolled": true
   },
   "outputs": [],
   "source": [
    "vif = pd.DataFrame()\n",
    "vif['Features'] = X_train[selected_cols].columns\n",
    "vif['VIF'] = [variance_inflation_factor(X_train[selected_cols].values, i) for i in range(X_train[selected_cols].shape[1])]\n",
    "vif['VIF'] = round(vif['VIF'], 2)\n",
    "vif = vif.sort_values(by = \"VIF\", ascending = False)\n",
    "vif"
   ]
  },
  {
   "cell_type": "markdown",
   "id": "31527bd3",
   "metadata": {},
   "source": [
    "- P-value of How did you hear about X Education_Email is high. So, Let's drop it"
   ]
  },
  {
   "cell_type": "markdown",
   "id": "7a10a384",
   "metadata": {},
   "source": [
    "- Dropping **How did you hear about X Education_Email**"
   ]
  },
  {
   "cell_type": "code",
   "execution_count": null,
   "id": "d2ba7153",
   "metadata": {
    "scrolled": true
   },
   "outputs": [],
   "source": [
    "selected_cols=selected_cols.drop('How did you hear about X Education_Email')\n",
    "selected_cols"
   ]
  },
  {
   "cell_type": "markdown",
   "id": "c63430f2",
   "metadata": {},
   "source": [
    "#### Building the model again"
   ]
  },
  {
   "cell_type": "code",
   "execution_count": null,
   "id": "e07b2341",
   "metadata": {
    "scrolled": true
   },
   "outputs": [],
   "source": [
    "X_train_sm = sm.add_constant(X_train[selected_cols])\n",
    "logm_5 = sm.GLM(y_train,X_train_sm, family = sm.families.Binomial())\n",
    "res = logm_5.fit()\n",
    "res.summary()"
   ]
  },
  {
   "cell_type": "markdown",
   "id": "7fde919d",
   "metadata": {},
   "source": [
    "#### Checking VIFs"
   ]
  },
  {
   "cell_type": "code",
   "execution_count": null,
   "id": "75646a92",
   "metadata": {
    "scrolled": true
   },
   "outputs": [],
   "source": [
    "vif = pd.DataFrame()\n",
    "vif['Features'] = X_train[selected_cols].columns\n",
    "vif['VIF'] = [variance_inflation_factor(X_train[selected_cols].values, i) for i in range(X_train[selected_cols].shape[1])]\n",
    "vif['VIF'] = round(vif['VIF'], 2)\n",
    "vif = vif.sort_values(by = \"VIF\", ascending = False)\n",
    "vif"
   ]
  },
  {
   "cell_type": "markdown",
   "id": "e6be7d4e",
   "metadata": {},
   "source": [
    "- P-value of Page Views Per Visit_above-12_Page_views_per_visit\tis high. So, Let's drop it"
   ]
  },
  {
   "cell_type": "markdown",
   "id": "c8947f6b",
   "metadata": {},
   "source": [
    "- Dropping **Page Views Per Visit_above-12_Page_views_per_visit**"
   ]
  },
  {
   "cell_type": "code",
   "execution_count": null,
   "id": "57396b44",
   "metadata": {
    "scrolled": true
   },
   "outputs": [],
   "source": [
    "selected_cols=selected_cols.drop('Page Views Per Visit_above-12_Page_views_per_visit')\n",
    "selected_cols"
   ]
  },
  {
   "cell_type": "markdown",
   "id": "ebe00726",
   "metadata": {},
   "source": [
    "#### Building the model again"
   ]
  },
  {
   "cell_type": "code",
   "execution_count": null,
   "id": "c69dbe84",
   "metadata": {
    "scrolled": true
   },
   "outputs": [],
   "source": [
    "X_train_sm = sm.add_constant(X_train[selected_cols])\n",
    "logm_5 = sm.GLM(y_train,X_train_sm, family = sm.families.Binomial())\n",
    "res = logm_5.fit()\n",
    "res.summary()"
   ]
  },
  {
   "cell_type": "markdown",
   "id": "6fe6e33c",
   "metadata": {},
   "source": [
    "#### Checking VIFs"
   ]
  },
  {
   "cell_type": "code",
   "execution_count": null,
   "id": "55b13821",
   "metadata": {
    "scrolled": true
   },
   "outputs": [],
   "source": [
    "vif = pd.DataFrame()\n",
    "vif['Features'] = X_train[selected_cols].columns\n",
    "vif['VIF'] = [variance_inflation_factor(X_train[selected_cols].values, i) for i in range(X_train[selected_cols].shape[1])]\n",
    "vif['VIF'] = round(vif['VIF'], 2)\n",
    "vif = vif.sort_values(by = \"VIF\", ascending = False)\n",
    "vif"
   ]
  },
  {
   "cell_type": "markdown",
   "id": "3a48626b",
   "metadata": {},
   "source": [
    "- P-value of Specialization_IT Projects Management is still high. So, Let's drop it"
   ]
  },
  {
   "cell_type": "markdown",
   "id": "599f5110",
   "metadata": {},
   "source": [
    "- Dropping **Specialization_IT Projects Management**"
   ]
  },
  {
   "cell_type": "code",
   "execution_count": null,
   "id": "c69cd41c",
   "metadata": {
    "scrolled": true
   },
   "outputs": [],
   "source": [
    "selected_cols=selected_cols.drop('Specialization_IT Projects Management')\n",
    "selected_cols"
   ]
  },
  {
   "cell_type": "markdown",
   "id": "c63c6ac4",
   "metadata": {},
   "source": [
    "#### Building the model again"
   ]
  },
  {
   "cell_type": "code",
   "execution_count": null,
   "id": "04533df4",
   "metadata": {
    "scrolled": true
   },
   "outputs": [],
   "source": [
    "X_train_sm = sm.add_constant(X_train[selected_cols])\n",
    "logm_5 = sm.GLM(y_train,X_train_sm, family = sm.families.Binomial())\n",
    "res = logm_5.fit()\n",
    "res.summary()"
   ]
  },
  {
   "cell_type": "markdown",
   "id": "8d29c0df",
   "metadata": {},
   "source": [
    "#### Checking VIFs"
   ]
  },
  {
   "cell_type": "code",
   "execution_count": null,
   "id": "729cafbc",
   "metadata": {
    "scrolled": true
   },
   "outputs": [],
   "source": [
    "vif = pd.DataFrame()\n",
    "vif['Features'] = X_train[selected_cols].columns\n",
    "vif['VIF'] = [variance_inflation_factor(X_train[selected_cols].values, i) for i in range(X_train[selected_cols].shape[1])]\n",
    "vif['VIF'] = round(vif['VIF'], 2)\n",
    "vif = vif.sort_values(by = \"VIF\", ascending = False)\n",
    "vif"
   ]
  },
  {
   "cell_type": "markdown",
   "id": "aeca319e",
   "metadata": {},
   "source": [
    "- P-value of Lead Origin_Lead Import is still high. So, Let's drop it"
   ]
  },
  {
   "cell_type": "markdown",
   "id": "02b59105",
   "metadata": {},
   "source": [
    "- Dropping **Lead Origin_Lead Import**"
   ]
  },
  {
   "cell_type": "code",
   "execution_count": null,
   "id": "3d3b787b",
   "metadata": {
    "scrolled": true
   },
   "outputs": [],
   "source": [
    "selected_cols=selected_cols.drop('Lead Origin_Lead Import')\n",
    "selected_cols"
   ]
  },
  {
   "cell_type": "markdown",
   "id": "57689cf0",
   "metadata": {},
   "source": [
    "#### Building the model again"
   ]
  },
  {
   "cell_type": "code",
   "execution_count": null,
   "id": "e094893e",
   "metadata": {
    "scrolled": true
   },
   "outputs": [],
   "source": [
    "X_train_sm = sm.add_constant(X_train[selected_cols])\n",
    "logm_5 = sm.GLM(y_train,X_train_sm, family = sm.families.Binomial())\n",
    "res = logm_5.fit()\n",
    "res.summary()"
   ]
  },
  {
   "cell_type": "markdown",
   "id": "dcee29d7",
   "metadata": {},
   "source": [
    "#### Checking VIFs"
   ]
  },
  {
   "cell_type": "code",
   "execution_count": null,
   "id": "4e031cea",
   "metadata": {
    "scrolled": true
   },
   "outputs": [],
   "source": [
    "vif = pd.DataFrame()\n",
    "vif['Features'] = X_train[selected_cols].columns\n",
    "vif['VIF'] = [variance_inflation_factor(X_train[selected_cols].values, i) for i in range(X_train[selected_cols].shape[1])]\n",
    "vif['VIF'] = round(vif['VIF'], 2)\n",
    "vif = vif.sort_values(by = \"VIF\", ascending = False)\n",
    "vif"
   ]
  },
  {
   "cell_type": "markdown",
   "id": "68351905",
   "metadata": {},
   "source": [
    "- P-value of all features seem significant. \n",
    "- but, VIF value of Page Views Per Visit_1-2_Page_views_per_visit is high. Let's drop this feature."
   ]
  },
  {
   "cell_type": "markdown",
   "id": "53a80594",
   "metadata": {},
   "source": [
    "- Dropping **Page Views Per Visit_1-2_Page_views_per_visit**"
   ]
  },
  {
   "cell_type": "code",
   "execution_count": null,
   "id": "00a7e258",
   "metadata": {
    "scrolled": true
   },
   "outputs": [],
   "source": [
    "selected_cols=selected_cols.drop('Page Views Per Visit_1-2_Page_views_per_visit')\n",
    "selected_cols"
   ]
  },
  {
   "cell_type": "markdown",
   "id": "8c7ecb01",
   "metadata": {},
   "source": [
    "#### Building the model again"
   ]
  },
  {
   "cell_type": "code",
   "execution_count": null,
   "id": "b1717170",
   "metadata": {
    "scrolled": true
   },
   "outputs": [],
   "source": [
    "X_train_sm = sm.add_constant(X_train[selected_cols])\n",
    "logm_5 = sm.GLM(y_train,X_train_sm, family = sm.families.Binomial())\n",
    "res = logm_5.fit()\n",
    "res.summary()"
   ]
  },
  {
   "cell_type": "markdown",
   "id": "25792279",
   "metadata": {},
   "source": [
    "#### Checking VIFs"
   ]
  },
  {
   "cell_type": "code",
   "execution_count": null,
   "id": "cb4ac604",
   "metadata": {
    "scrolled": true
   },
   "outputs": [],
   "source": [
    "vif = pd.DataFrame()\n",
    "vif['Features'] = X_train[selected_cols].columns\n",
    "vif['VIF'] = [variance_inflation_factor(X_train[selected_cols].values, i) for i in range(X_train[selected_cols].shape[1])]\n",
    "vif['VIF'] = round(vif['VIF'], 2)\n",
    "vif = vif.sort_values(by = \"VIF\", ascending = False)\n",
    "vif"
   ]
  },
  {
   "cell_type": "markdown",
   "id": "c2ea5872",
   "metadata": {},
   "source": [
    "- P-values and VIF values are significant now"
   ]
  },
  {
   "cell_type": "code",
   "execution_count": null,
   "id": "b55f57c7",
   "metadata": {},
   "outputs": [],
   "source": [
    "len(selected_cols)"
   ]
  },
  {
   "cell_type": "markdown",
   "id": "2c6f573b",
   "metadata": {},
   "source": [
    "- we have 17 features, but we have to minimize the features to increase the efficieny"
   ]
  },
  {
   "cell_type": "markdown",
   "id": "7a5825f1",
   "metadata": {},
   "source": [
    "### Correlation check\n",
    "- Let's look at correlation matrix once again"
   ]
  },
  {
   "cell_type": "code",
   "execution_count": null,
   "id": "66f62b2d",
   "metadata": {
    "scrolled": true
   },
   "outputs": [],
   "source": [
    "corr=X_train[selected_cols].corr()\n",
    "mask = np.zeros_like(corr)\n",
    "mask[np.triu_indices_from(mask)] = True"
   ]
  },
  {
   "cell_type": "code",
   "execution_count": null,
   "id": "1e0d2bbc",
   "metadata": {
    "scrolled": true
   },
   "outputs": [],
   "source": [
    "plt.figure(figsize = (20,10))\n",
    "sns.heatmap(corr,mask=mask,annot = True)\n",
    "plt.show()"
   ]
  },
  {
   "cell_type": "markdown",
   "id": "65558525",
   "metadata": {},
   "source": [
    "- There is significant correlation b/w TotalVisits_3-4_Visits and Page Views Per Visit_3-4_Page_views_per_visit\n",
    "- There is significant Correlation b/w TotalVisits_1-2_Visits and Page Views Per Visit_3-4_Page_views_per_visit\n",
    "- There is significant Correlation b/w 'What is your current occupation_Unemployed' and 'What is your current occupation_Working Professional'"
   ]
  },
  {
   "cell_type": "markdown",
   "id": "2c180bdc",
   "metadata": {},
   "source": [
    "- Dropping **Page Views Per Visit_3-4_Page_views_per_visit**"
   ]
  },
  {
   "cell_type": "code",
   "execution_count": null,
   "id": "056186b6",
   "metadata": {
    "scrolled": true
   },
   "outputs": [],
   "source": [
    "selected_cols=selected_cols.drop('Page Views Per Visit_3-4_Page_views_per_visit')\n",
    "selected_cols"
   ]
  },
  {
   "cell_type": "markdown",
   "id": "08b21757",
   "metadata": {},
   "source": [
    "#### Building the model again"
   ]
  },
  {
   "cell_type": "code",
   "execution_count": null,
   "id": "aef09527",
   "metadata": {
    "scrolled": true
   },
   "outputs": [],
   "source": [
    "X_train_sm = sm.add_constant(X_train[selected_cols])\n",
    "logm_5 = sm.GLM(y_train,X_train_sm, family = sm.families.Binomial())\n",
    "res = logm_5.fit()\n",
    "res.summary()"
   ]
  },
  {
   "cell_type": "markdown",
   "id": "ac953708",
   "metadata": {},
   "source": [
    "#### Checking VIFs"
   ]
  },
  {
   "cell_type": "code",
   "execution_count": null,
   "id": "d85ec667",
   "metadata": {
    "scrolled": true
   },
   "outputs": [],
   "source": [
    "vif = pd.DataFrame()\n",
    "vif['Features'] = X_train[selected_cols].columns\n",
    "vif['VIF'] = [variance_inflation_factor(X_train[selected_cols].values, i) for i in range(X_train[selected_cols].shape[1])]\n",
    "vif['VIF'] = round(vif['VIF'], 2)\n",
    "vif = vif.sort_values(by = \"VIF\", ascending = False)\n",
    "vif"
   ]
  },
  {
   "cell_type": "markdown",
   "id": "89f4e6b7",
   "metadata": {},
   "source": [
    "- P-value and Vif did't change much.\n",
    "- p value of Lead Profile_Lateral Student is 0.034. It is significant, but it seems unimportant"
   ]
  },
  {
   "cell_type": "markdown",
   "id": "d5ebed01",
   "metadata": {},
   "source": [
    "- Dropping **Lead Profile_Lateral Student**"
   ]
  },
  {
   "cell_type": "code",
   "execution_count": null,
   "id": "2d3807b9",
   "metadata": {
    "scrolled": true
   },
   "outputs": [],
   "source": [
    "selected_cols=selected_cols.drop('Lead Profile_Lateral Student')\n",
    "selected_cols"
   ]
  },
  {
   "cell_type": "markdown",
   "id": "8deff06d",
   "metadata": {},
   "source": [
    "#### Building the model again"
   ]
  },
  {
   "cell_type": "code",
   "execution_count": null,
   "id": "b6dcf375",
   "metadata": {
    "scrolled": true
   },
   "outputs": [],
   "source": [
    "X_train_sm = sm.add_constant(X_train[selected_cols])\n",
    "logm_5 = sm.GLM(y_train,X_train_sm, family = sm.families.Binomial())\n",
    "res = logm_5.fit()\n",
    "res.summary()"
   ]
  },
  {
   "cell_type": "markdown",
   "id": "d855cf52",
   "metadata": {},
   "source": [
    "#### Checking VIFs"
   ]
  },
  {
   "cell_type": "code",
   "execution_count": null,
   "id": "7772fe0f",
   "metadata": {
    "scrolled": true
   },
   "outputs": [],
   "source": [
    "vif = pd.DataFrame()\n",
    "vif['Features'] = X_train[selected_cols].columns\n",
    "vif['VIF'] = [variance_inflation_factor(X_train[selected_cols].values, i) for i in range(X_train[selected_cols].shape[1])]\n",
    "vif['VIF'] = round(vif['VIF'], 2)\n",
    "vif = vif.sort_values(by = \"VIF\", ascending = False)\n",
    "vif"
   ]
  },
  {
   "cell_type": "markdown",
   "id": "4bece049",
   "metadata": {},
   "source": [
    "- Nothing much happened."
   ]
  },
  {
   "cell_type": "markdown",
   "id": "259c3b7d",
   "metadata": {},
   "source": [
    "- Dropping **What is your current occupation_Unemployed**"
   ]
  },
  {
   "cell_type": "code",
   "execution_count": null,
   "id": "f788ae4a",
   "metadata": {
    "scrolled": true
   },
   "outputs": [],
   "source": [
    "selected_cols=selected_cols.drop('What is your current occupation_Unemployed')\n",
    "selected_cols"
   ]
  },
  {
   "cell_type": "markdown",
   "id": "6a8fd009",
   "metadata": {},
   "source": [
    "#### Building the model again"
   ]
  },
  {
   "cell_type": "code",
   "execution_count": null,
   "id": "fa55c7b3",
   "metadata": {
    "scrolled": true
   },
   "outputs": [],
   "source": [
    "X_train_sm = sm.add_constant(X_train[selected_cols])\n",
    "logm_5 = sm.GLM(y_train,X_train_sm, family = sm.families.Binomial())\n",
    "res = logm_5.fit()\n",
    "res.summary()"
   ]
  },
  {
   "cell_type": "markdown",
   "id": "fb747513",
   "metadata": {},
   "source": [
    "#### Checking VIFs"
   ]
  },
  {
   "cell_type": "code",
   "execution_count": null,
   "id": "59d2fa58",
   "metadata": {
    "scrolled": true
   },
   "outputs": [],
   "source": [
    "vif = pd.DataFrame()\n",
    "vif['Features'] = X_train[selected_cols].columns\n",
    "vif['VIF'] = [variance_inflation_factor(X_train[selected_cols].values, i) for i in range(X_train[selected_cols].shape[1])]\n",
    "vif['VIF'] = round(vif['VIF'], 2)\n",
    "vif = vif.sort_values(by = \"VIF\", ascending = False)\n",
    "vif"
   ]
  },
  {
   "cell_type": "markdown",
   "id": "5875e688",
   "metadata": {},
   "source": [
    "- After dropping What is your current occupation_Unemployed, P-value increased for Page Views Per Visit_9-12_Page_views_per_visit."
   ]
  },
  {
   "cell_type": "markdown",
   "id": "672144b0",
   "metadata": {},
   "source": [
    "- Dropping **Page Views Per Visit_9-12_Page_views_per_visit**"
   ]
  },
  {
   "cell_type": "code",
   "execution_count": null,
   "id": "92c08801",
   "metadata": {},
   "outputs": [],
   "source": [
    "selected_cols=selected_cols.drop('Page Views Per Visit_9-12_Page_views_per_visit')\n",
    "selected_cols"
   ]
  },
  {
   "cell_type": "markdown",
   "id": "41c45c8b",
   "metadata": {},
   "source": [
    "#### Building the model again"
   ]
  },
  {
   "cell_type": "code",
   "execution_count": null,
   "id": "998a69ea",
   "metadata": {
    "scrolled": true
   },
   "outputs": [],
   "source": [
    "X_train_sm = sm.add_constant(X_train[selected_cols])\n",
    "logm_5 = sm.GLM(y_train,X_train_sm, family = sm.families.Binomial())\n",
    "res = logm_5.fit()\n",
    "res.summary()"
   ]
  },
  {
   "cell_type": "markdown",
   "id": "99189739",
   "metadata": {},
   "source": [
    "#### Checking VIFs"
   ]
  },
  {
   "cell_type": "code",
   "execution_count": null,
   "id": "274a40d3",
   "metadata": {
    "scrolled": true
   },
   "outputs": [],
   "source": [
    "vif = pd.DataFrame()\n",
    "vif['Features'] = X_train[selected_cols].columns\n",
    "vif['VIF'] = [variance_inflation_factor(X_train[selected_cols].values, i) for i in range(X_train[selected_cols].shape[1])]\n",
    "vif['VIF'] = round(vif['VIF'], 2)\n",
    "vif = vif.sort_values(by = \"VIF\", ascending = False)\n",
    "vif"
   ]
  },
  {
   "cell_type": "markdown",
   "id": "9b25da60",
   "metadata": {},
   "source": [
    "- After dropping What is your current occupation_Unemployed, P-value increased for Page Views Per Visit_7-8_Page_views_per_visit."
   ]
  },
  {
   "cell_type": "markdown",
   "id": "0722a8c8",
   "metadata": {},
   "source": [
    "- Dropping **Page Views Per Visit_7-8_Page_views_per_visit**"
   ]
  },
  {
   "cell_type": "code",
   "execution_count": null,
   "id": "38ff3974",
   "metadata": {},
   "outputs": [],
   "source": [
    "selected_cols=selected_cols.drop('Page Views Per Visit_7-8_Page_views_per_visit')\n",
    "selected_cols"
   ]
  },
  {
   "cell_type": "markdown",
   "id": "d0f73288",
   "metadata": {},
   "source": [
    "#### Building the model again"
   ]
  },
  {
   "cell_type": "code",
   "execution_count": null,
   "id": "a5b4b540",
   "metadata": {
    "scrolled": true
   },
   "outputs": [],
   "source": [
    "X_train_sm = sm.add_constant(X_train[selected_cols])\n",
    "logm_5 = sm.GLM(y_train,X_train_sm, family = sm.families.Binomial())\n",
    "res = logm_5.fit()\n",
    "res.summary()"
   ]
  },
  {
   "cell_type": "markdown",
   "id": "7d418f54",
   "metadata": {},
   "source": [
    "#### Checking VIFs"
   ]
  },
  {
   "cell_type": "code",
   "execution_count": null,
   "id": "0b83acbb",
   "metadata": {
    "scrolled": true
   },
   "outputs": [],
   "source": [
    "vif = pd.DataFrame()\n",
    "vif['Features'] = X_train[selected_cols].columns\n",
    "vif['VIF'] = [variance_inflation_factor(X_train[selected_cols].values, i) for i in range(X_train[selected_cols].shape[1])]\n",
    "vif['VIF'] = round(vif['VIF'], 2)\n",
    "vif = vif.sort_values(by = \"VIF\", ascending = False)\n",
    "vif"
   ]
  },
  {
   "cell_type": "markdown",
   "id": "e4ed0c64",
   "metadata": {},
   "source": [
    "- P-values of features stay significant\n",
    "- Looking at the VIF values now, all the values seem to be good"
   ]
  },
  {
   "cell_type": "markdown",
   "id": "028ab031",
   "metadata": {},
   "source": [
    "- Dropping **What is your current occupation_Student** as we already have one feature for occupation in model"
   ]
  },
  {
   "cell_type": "code",
   "execution_count": null,
   "id": "3b0deb11",
   "metadata": {},
   "outputs": [],
   "source": [
    "selected_cols=selected_cols.drop('What is your current occupation_Student')\n",
    "selected_cols"
   ]
  },
  {
   "cell_type": "markdown",
   "id": "1e747619",
   "metadata": {},
   "source": [
    "#### Building the model again"
   ]
  },
  {
   "cell_type": "code",
   "execution_count": null,
   "id": "f2bd566e",
   "metadata": {
    "scrolled": true
   },
   "outputs": [],
   "source": [
    "X_train_sm = sm.add_constant(X_train[selected_cols])\n",
    "logm_5 = sm.GLM(y_train,X_train_sm, family = sm.families.Binomial())\n",
    "res = logm_5.fit()\n",
    "res.summary()"
   ]
  },
  {
   "cell_type": "markdown",
   "id": "d944f06d",
   "metadata": {},
   "source": [
    "#### Checking VIFs"
   ]
  },
  {
   "cell_type": "code",
   "execution_count": null,
   "id": "c13cdd54",
   "metadata": {
    "scrolled": true
   },
   "outputs": [],
   "source": [
    "vif = pd.DataFrame()\n",
    "vif['Features'] = X_train[selected_cols].columns\n",
    "vif['VIF'] = [variance_inflation_factor(X_train[selected_cols].values, i) for i in range(X_train[selected_cols].shape[1])]\n",
    "vif['VIF'] = round(vif['VIF'], 2)\n",
    "vif = vif.sort_values(by = \"VIF\", ascending = False)\n",
    "vif"
   ]
  },
  {
   "cell_type": "markdown",
   "id": "dd2b0798",
   "metadata": {},
   "source": [
    "- P-values of features stay significant\n",
    "- Looking at the VIF values now, all the values seem to be good"
   ]
  },
  {
   "cell_type": "markdown",
   "id": "7c729395",
   "metadata": {},
   "source": [
    "### Correlation check\n",
    "- Let's look at correlation matrix once again"
   ]
  },
  {
   "cell_type": "code",
   "execution_count": null,
   "id": "66b8399c",
   "metadata": {
    "scrolled": true
   },
   "outputs": [],
   "source": [
    "corr=X_train[selected_cols].corr()\n",
    "mask = np.zeros_like(corr)\n",
    "mask[np.triu_indices_from(mask)] = True"
   ]
  },
  {
   "cell_type": "code",
   "execution_count": null,
   "id": "84786952",
   "metadata": {
    "scrolled": true
   },
   "outputs": [],
   "source": [
    "plt.figure(figsize = (20,10))\n",
    "sns.heatmap(corr,mask=mask,annot = True)\n",
    "plt.show()"
   ]
  },
  {
   "cell_type": "markdown",
   "id": "1350ffb3",
   "metadata": {},
   "source": [
    "- Lead Origin_Lead Add Form and Lead Source_Welingak Website seems to have some correlation. Let's check by dropping Lead Source_Welingak Website"
   ]
  },
  {
   "cell_type": "code",
   "execution_count": null,
   "id": "9de3ce37",
   "metadata": {
    "scrolled": true
   },
   "outputs": [],
   "source": [
    "selected_cols=selected_cols.drop('Lead Source_Welingak Website')\n",
    "selected_cols"
   ]
  },
  {
   "cell_type": "markdown",
   "id": "845bbb75",
   "metadata": {},
   "source": [
    "#### Building the model again"
   ]
  },
  {
   "cell_type": "code",
   "execution_count": null,
   "id": "ebd7cce7",
   "metadata": {},
   "outputs": [],
   "source": [
    "X_train_sm = sm.add_constant(X_train[selected_cols])\n",
    "logm_6 = sm.GLM(y_train,X_train_sm, family = sm.families.Binomial())\n",
    "res = logm_6.fit()\n",
    "res.summary()"
   ]
  },
  {
   "cell_type": "markdown",
   "id": "b22d81ba",
   "metadata": {},
   "source": [
    "#### Checking VIFs"
   ]
  },
  {
   "cell_type": "code",
   "execution_count": null,
   "id": "00a3b961",
   "metadata": {
    "scrolled": true
   },
   "outputs": [],
   "source": [
    "vif = pd.DataFrame()\n",
    "vif['Features'] = X_train[selected_cols].columns\n",
    "vif['VIF'] = [variance_inflation_factor(X_train[selected_cols].values, i) for i in range(X_train[selected_cols].shape[1])]\n",
    "vif['VIF'] = round(vif['VIF'], 2)\n",
    "vif = vif.sort_values(by = \"VIF\", ascending = False)\n",
    "vif"
   ]
  },
  {
   "cell_type": "markdown",
   "id": "db5611db",
   "metadata": {},
   "source": [
    "- model seems to have good number of features with significant p values and good VIF values.\n",
    "- let's use the selected features to predict"
   ]
  },
  {
   "cell_type": "markdown",
   "id": "518fbe1f",
   "metadata": {},
   "source": [
    "## Model Prediction"
   ]
  },
  {
   "cell_type": "code",
   "execution_count": null,
   "id": "6023d483",
   "metadata": {
    "scrolled": true
   },
   "outputs": [],
   "source": [
    "#getting predicted values\n",
    "y_train_pred = res.predict(X_train_sm)\n",
    "y_train_pred = y_train_pred.values.reshape(-1) #reshaping to get an array\n",
    "y_train_pred[:10]"
   ]
  },
  {
   "cell_type": "code",
   "execution_count": null,
   "id": "a4371d8e",
   "metadata": {
    "scrolled": true
   },
   "outputs": [],
   "source": [
    "#Creating dataframe \n",
    "y_train_pred_final = pd.DataFrame({'Converted':y_train.values, 'Converted_Prob':y_train_pred})\n",
    "y_train_pred_final['Lead_Id'] = y_train.index\n",
    "y_train_pred_final.head()"
   ]
  },
  {
   "cell_type": "markdown",
   "id": "00f8b06f",
   "metadata": {},
   "source": [
    "## Finding Optimal Cutoff Point"
   ]
  },
  {
   "cell_type": "markdown",
   "id": "833862f5",
   "metadata": {},
   "source": [
    "Optimal cutoff probability is that prob where we get balanced sensitivity and specificity"
   ]
  },
  {
   "cell_type": "code",
   "execution_count": null,
   "id": "1fb6127d",
   "metadata": {},
   "outputs": [],
   "source": [
    "# Let's create columns with different probability cutoffs \n",
    "numbers = [float(x)/10 for x in range(10)]\n",
    "for i in numbers:\n",
    "    y_train_pred_final[i]= y_train_pred_final.Converted_Prob.map(lambda x: 1 if x > i else 0)\n",
    "y_train_pred_final.head()"
   ]
  },
  {
   "cell_type": "code",
   "execution_count": null,
   "id": "c31c6f92",
   "metadata": {},
   "outputs": [],
   "source": [
    "cutoff_df = pd.DataFrame( columns = ['prob','accuracy','sensi','speci'])\n",
    "from sklearn.metrics import confusion_matrix\n",
    "\n",
    "num = [0.0,0.1,0.2,0.3,0.4,0.5,0.6,0.7,0.8,0.9]\n",
    "for i in num:\n",
    "    cm1 = metrics.confusion_matrix(y_train_pred_final.Converted, y_train_pred_final[i] )\n",
    "    total1=sum(sum(cm1))\n",
    "    accuracy = (cm1[0,0]+cm1[1,1])/total1\n",
    "    \n",
    "    speci = cm1[0,0]/(cm1[0,0]+cm1[0,1])\n",
    "    sensi = cm1[1,1]/(cm1[1,0]+cm1[1,1])\n",
    "    cutoff_df.loc[i] =[ i ,accuracy,sensi,speci]\n",
    "print(cutoff_df)"
   ]
  },
  {
   "cell_type": "code",
   "execution_count": null,
   "id": "55db5907",
   "metadata": {},
   "outputs": [],
   "source": [
    "# Let's plot accuracy sensitivity and specificity for various probabilities.\n",
    "cutoff_df.plot.line(x='prob', y=['accuracy','sensi','speci'])\n",
    "plt.show()"
   ]
  },
  {
   "cell_type": "markdown",
   "id": "ceb86685",
   "metadata": {},
   "source": [
    "#### From the curve above, 0.3 is the optimum point to take it as a cutoff probability."
   ]
  },
  {
   "cell_type": "code",
   "execution_count": null,
   "id": "8f921660",
   "metadata": {},
   "outputs": [],
   "source": [
    "y_train_pred_final['predicted'] = y_train_pred_final.Converted_Prob.map(lambda x: 1 if x > 0.3 else 0)\n",
    "\n",
    "# Let's see the resulting probabilities\n",
    "y_train_pred_final.head()"
   ]
  },
  {
   "cell_type": "markdown",
   "id": "c14befb9",
   "metadata": {},
   "source": [
    "#### Checking Confusion matrix "
   ]
  },
  {
   "cell_type": "code",
   "execution_count": null,
   "id": "ac1dcafc",
   "metadata": {
    "scrolled": true
   },
   "outputs": [],
   "source": [
    "confusion = metrics.confusion_matrix(y_train_pred_final.Converted, y_train_pred_final.predicted )\n",
    "print(confusion)"
   ]
  },
  {
   "cell_type": "markdown",
   "id": "b3b1ed58",
   "metadata": {},
   "source": [
    "#### Checking overall score"
   ]
  },
  {
   "cell_type": "code",
   "execution_count": null,
   "id": "7facae1f",
   "metadata": {
    "scrolled": true
   },
   "outputs": [],
   "source": [
    "Accuracy_train=round(metrics.accuracy_score(y_train_pred_final.Converted, y_train_pred_final.predicted)*100,2)                                           \n",
    "print(Accuracy_train)"
   ]
  },
  {
   "cell_type": "markdown",
   "id": "319990fb",
   "metadata": {},
   "source": [
    "### Looking at Other Metrics beyond simply accuracy"
   ]
  },
  {
   "cell_type": "code",
   "execution_count": null,
   "id": "a74528ab",
   "metadata": {
    "scrolled": true
   },
   "outputs": [],
   "source": [
    "TP = confusion[1,1] # true positive \n",
    "TN = confusion[0,0] # true negatives\n",
    "FP = confusion[0,1] # false positives\n",
    "FN = confusion[1,0] # false negatives"
   ]
  },
  {
   "cell_type": "code",
   "execution_count": null,
   "id": "e51989bd",
   "metadata": {},
   "outputs": [],
   "source": [
    "# Calculating Precision and  Recall score\n",
    "Precision_train = round((TP/(FP+TP)*100),2)\n",
    "Recall_train = round((TP/(FN+TP)*100),2)"
   ]
  },
  {
   "cell_type": "code",
   "execution_count": null,
   "id": "2d40fd40",
   "metadata": {},
   "outputs": [],
   "source": [
    "Sensitivity_train =round((TP / float(TP+FN))*100,2)\n",
    "Specificity_train =round((TN / float(TN+FP))*100,2)"
   ]
  },
  {
   "cell_type": "code",
   "execution_count": null,
   "id": "fcb9ba84",
   "metadata": {},
   "outputs": [],
   "source": [
    "# Let's see the sensitivity of our logistic regression model\n",
    "print(f'Sensitivity is: {Sensitivity_train}%')\n",
    "print(f'Specificity is: {Specificity_train}%')\n",
    "print(f'Precision: {Precision_train}%')\n",
    "print(f'Recall: {Recall_train}%')\n",
    "print(f'Accuracy: {Accuracy_train}%')"
   ]
  },
  {
   "cell_type": "markdown",
   "id": "d547efb3",
   "metadata": {},
   "source": [
    "#### Plotting the ROC Curve"
   ]
  },
  {
   "cell_type": "markdown",
   "id": "8fa251c9",
   "metadata": {},
   "source": [
    "An ROC curve demonstrates several things:\n",
    "\n",
    "- It shows the tradeoff between sensitivity and specificity (any increase in sensitivity will be accompanied by a decrease in specificity).\n",
    "- The closer the curve follows the left-hand border and then the top border of the ROC space, the more accurate the test.\n",
    "- The closer the curve comes to the 45-degree diagonal of the ROC space, the less accurate the test."
   ]
  },
  {
   "cell_type": "code",
   "execution_count": null,
   "id": "e292a776",
   "metadata": {
    "scrolled": true
   },
   "outputs": [],
   "source": [
    "def draw_roc( actual, probs ):\n",
    "    fpr, tpr, thresholds = metrics.roc_curve( actual, probs,\n",
    "                                              drop_intermediate = False )\n",
    "    auc_score = metrics.roc_auc_score( actual, probs )\n",
    "    plt.figure(figsize=(5, 5))\n",
    "    plt.plot( fpr, tpr, label='ROC curve (area = %0.2f)' % auc_score )\n",
    "    plt.plot([0, 1], [0, 1], 'k--')\n",
    "    plt.xlim([0.0, 1.0])\n",
    "    plt.ylim([0.0, 1.05])\n",
    "    plt.xlabel('False Positive Rate or [1 - True Negative Rate]')\n",
    "    plt.ylabel('True Positive Rate')\n",
    "    plt.title('Receiver operating characteristic example')\n",
    "    plt.legend(loc=\"lower right\")\n",
    "    plt.show()\n",
    "\n",
    "    return None"
   ]
  },
  {
   "cell_type": "code",
   "execution_count": null,
   "id": "d05697db",
   "metadata": {
    "scrolled": true
   },
   "outputs": [],
   "source": [
    "fpr, tpr, thresholds = metrics.roc_curve( y_train_pred_final.Converted, y_train_pred_final.Converted_Prob, drop_intermediate = False )"
   ]
  },
  {
   "cell_type": "code",
   "execution_count": null,
   "id": "e2f12a2e",
   "metadata": {
    "scrolled": true
   },
   "outputs": [],
   "source": [
    "draw_roc(y_train_pred_final.Converted, y_train_pred_final.Converted_Prob)"
   ]
  },
  {
   "cell_type": "markdown",
   "id": "f1659587",
   "metadata": {},
   "source": [
    "- ROC curve seems pretty good and we are good to go."
   ]
  },
  {
   "cell_type": "markdown",
   "id": "6603eb45",
   "metadata": {},
   "source": [
    "### Precision and recall tradeoff"
   ]
  },
  {
   "cell_type": "markdown",
   "id": "f40fbd61",
   "metadata": {},
   "source": [
    "- Let's look at the precision and recall trade-off once"
   ]
  },
  {
   "cell_type": "code",
   "execution_count": null,
   "id": "0fc4e8e8",
   "metadata": {},
   "outputs": [],
   "source": [
    "from sklearn.metrics import precision_recall_curve\n"
   ]
  },
  {
   "cell_type": "code",
   "execution_count": null,
   "id": "a652b0bf",
   "metadata": {},
   "outputs": [],
   "source": [
    "p, r, thresholds = precision_recall_curve(y_train_pred_final.Converted, y_train_pred_final.Converted_Prob)"
   ]
  },
  {
   "cell_type": "code",
   "execution_count": null,
   "id": "63bcc0d7",
   "metadata": {},
   "outputs": [],
   "source": [
    "plt.plot(thresholds, p[:-1], \"g-\")\n",
    "plt.plot(thresholds, r[:-1], \"r-\")\n",
    "plt.show()"
   ]
  },
  {
   "cell_type": "markdown",
   "id": "e9c168b0",
   "metadata": {},
   "source": [
    "- We can see that recall is bit higher when precision is high \n",
    "- Also, recall is high when precision is low\n",
    "- It looks good in case of given business problem"
   ]
  },
  {
   "cell_type": "markdown",
   "id": "7e2e1a61",
   "metadata": {},
   "source": [
    "## Making predictions on the test set"
   ]
  },
  {
   "cell_type": "code",
   "execution_count": null,
   "id": "29784851",
   "metadata": {},
   "outputs": [],
   "source": [
    "X_test[['Total Time Spent on Website']] = scaler.transform(X_test[['Total Time Spent on Website']])"
   ]
  },
  {
   "cell_type": "code",
   "execution_count": null,
   "id": "3b4353c1",
   "metadata": {},
   "outputs": [],
   "source": [
    "selected_cols"
   ]
  },
  {
   "cell_type": "code",
   "execution_count": null,
   "id": "2a1ae2a9",
   "metadata": {},
   "outputs": [],
   "source": [
    "X_test = X_test[selected_cols]\n",
    "X_test.head()"
   ]
  },
  {
   "cell_type": "code",
   "execution_count": null,
   "id": "2ff60414",
   "metadata": {},
   "outputs": [],
   "source": [
    "#adding constant and predicting \n",
    "X_test_sm = sm.add_constant(X_test)\n",
    "y_test_pred = res.predict(X_test_sm)\n",
    "y_test_pred[:10]"
   ]
  },
  {
   "cell_type": "code",
   "execution_count": null,
   "id": "a1f29fcc",
   "metadata": {},
   "outputs": [],
   "source": [
    "# Converting y_pred to a dataframe which is an array\n",
    "y_pred_1 = pd.DataFrame(y_test_pred)"
   ]
  },
  {
   "cell_type": "code",
   "execution_count": null,
   "id": "0f95f32a",
   "metadata": {},
   "outputs": [],
   "source": [
    "# Converting y_test to dataframe\n",
    "y_test_df = pd.DataFrame(y_test)"
   ]
  },
  {
   "cell_type": "code",
   "execution_count": null,
   "id": "8e63d4c7",
   "metadata": {},
   "outputs": [],
   "source": [
    "y_test_df['Lead_ID'] = y_test_df.index"
   ]
  },
  {
   "cell_type": "code",
   "execution_count": null,
   "id": "e15b78a1",
   "metadata": {},
   "outputs": [],
   "source": [
    "# Removing index for both dataframes to append them side by side \n",
    "y_pred_1.reset_index(drop=True, inplace=True)\n",
    "y_test_df.reset_index(drop=True, inplace=True)"
   ]
  },
  {
   "cell_type": "code",
   "execution_count": null,
   "id": "230860d6",
   "metadata": {},
   "outputs": [],
   "source": [
    "y_pred_final = pd.concat([y_test_df, y_pred_1],axis=1)\n",
    "y_pred_final.head()"
   ]
  },
  {
   "cell_type": "code",
   "execution_count": null,
   "id": "6147af90",
   "metadata": {},
   "outputs": [],
   "source": [
    "y_pred_final= y_pred_final.rename(columns={ 0 : 'Converted_Prob'})"
   ]
  },
  {
   "cell_type": "code",
   "execution_count": null,
   "id": "bd9ffb17",
   "metadata": {},
   "outputs": [],
   "source": [
    "y_pred_final.index=y_pred_final['Lead_ID']\n",
    "y_pred_final.head()"
   ]
  },
  {
   "cell_type": "code",
   "execution_count": null,
   "id": "7a94645c",
   "metadata": {},
   "outputs": [],
   "source": [
    "y_pred_final.drop('Lead_ID',inplace=True,axis=1)\n",
    "y_pred_final.head()"
   ]
  },
  {
   "cell_type": "markdown",
   "id": "b5ddc71d",
   "metadata": {},
   "source": [
    "Threshold using from precision recall tradeoff"
   ]
  },
  {
   "cell_type": "code",
   "execution_count": null,
   "id": "43c9ba0f",
   "metadata": {},
   "outputs": [],
   "source": [
    "y_pred_final['final_predicted'] = y_pred_final.Converted_Prob.map(lambda x: 1 if x > 0.3 else 0)\n",
    "y_pred_final"
   ]
  },
  {
   "cell_type": "markdown",
   "id": "cb4a3a8b",
   "metadata": {},
   "source": [
    "## Assigning a Lead Score to the Predicted values"
   ]
  },
  {
   "cell_type": "code",
   "execution_count": null,
   "id": "79da1a7b",
   "metadata": {},
   "outputs": [],
   "source": [
    "y_pred_final['Lead Score']=y_pred_final['Converted_Prob'].apply(lambda x:round(x*100))"
   ]
  },
  {
   "cell_type": "code",
   "execution_count": null,
   "id": "5b1ab645",
   "metadata": {},
   "outputs": [],
   "source": [
    "y_pred_final"
   ]
  },
  {
   "cell_type": "markdown",
   "id": "d2653372",
   "metadata": {},
   "source": [
    "#### Checking Confusion matrix "
   ]
  },
  {
   "cell_type": "code",
   "execution_count": null,
   "id": "87d0febe",
   "metadata": {
    "scrolled": true
   },
   "outputs": [],
   "source": [
    "confusion_test = metrics.confusion_matrix(y_pred_final.Converted, y_pred_final.final_predicted )\n",
    "confusion_test"
   ]
  },
  {
   "cell_type": "markdown",
   "id": "19b23446",
   "metadata": {},
   "source": [
    "#### Checking overall score"
   ]
  },
  {
   "cell_type": "code",
   "execution_count": null,
   "id": "385eb5e1",
   "metadata": {
    "scrolled": true
   },
   "outputs": [],
   "source": [
    "Accuracy_test=round(metrics.accuracy_score(y_pred_final.Converted, y_pred_final.final_predicted)*100,2)\n",
    "print(Accuracy_test)"
   ]
  },
  {
   "cell_type": "markdown",
   "id": "f2c79947",
   "metadata": {},
   "source": [
    "## Model Evaluation"
   ]
  },
  {
   "cell_type": "code",
   "execution_count": null,
   "id": "0c342dd8",
   "metadata": {},
   "outputs": [],
   "source": [
    "TP = confusion_test[1,1] # true positive \n",
    "TN = confusion_test[0,0] # true negatives\n",
    "FP = confusion_test[0,1] # false positives\n",
    "FN = confusion_test[1,0] # false negatives"
   ]
  },
  {
   "cell_type": "code",
   "execution_count": null,
   "id": "f7bc3072",
   "metadata": {},
   "outputs": [],
   "source": [
    "# Calculating Precision and Recall score\n",
    "Precision_test = round((TP/(FP+TP)*100),2)\n",
    "Recall_test = round((TP/(FN+TP)*100),2)"
   ]
  },
  {
   "cell_type": "code",
   "execution_count": null,
   "id": "3301d35a",
   "metadata": {},
   "outputs": [],
   "source": [
    "Sensitivity_test =round((TP / float(TP+FN))*100,2)\n",
    "Specificity_test =round((TN / float(TN+FP))*100,2)"
   ]
  },
  {
   "cell_type": "code",
   "execution_count": null,
   "id": "bf7a7bea",
   "metadata": {},
   "outputs": [],
   "source": [
    "# Let's see the sensitivity of our logistic regression model\n",
    "print(f'Sensitivity is: {Sensitivity_test}%')\n",
    "print(f'Specificity is: {Specificity_test}%')\n",
    "print(f'Precision: {Precision_test}%')\n",
    "print(f'Recall: {Recall_test}%')\n",
    "print(f'Accuracy: {Accuracy_test}%')"
   ]
  },
  {
   "cell_type": "markdown",
   "id": "c00d9dbf",
   "metadata": {},
   "source": [
    "### Comparing with train dataset metrics"
   ]
  },
  {
   "cell_type": "code",
   "execution_count": null,
   "id": "4baab3c8",
   "metadata": {},
   "outputs": [],
   "source": [
    "print(f'Train Sensitivity is: {Sensitivity_train}%')\n",
    "print(f'Train Specificity is: {Specificity_train}%')\n",
    "print(f'Train Precision: {Precision_train}%')\n",
    "print(f'Train Recall: {Recall_train}%')\n",
    "print(f'Train Accuracy: {Accuracy_train}%')"
   ]
  },
  {
   "cell_type": "markdown",
   "id": "d17b5988",
   "metadata": {},
   "source": [
    "## Conclusion"
   ]
  },
  {
   "cell_type": "markdown",
   "id": "bf125536",
   "metadata": {},
   "source": [
    "- By looking at the Sensitivity, Specificity, Accuracy, Precision and Recall score, Our model results on test dataset are essentially accurate and that the model is stable\n",
    "- We got higher recall score than precision score.\n",
    "- This model has the flexibility to change to meet the needs of the business in the future."
   ]
  },
  {
   "cell_type": "markdown",
   "id": "8afa5768",
   "metadata": {},
   "source": [
    "### Model's final features"
   ]
  },
  {
   "cell_type": "code",
   "execution_count": null,
   "id": "a40d3111",
   "metadata": {},
   "outputs": [],
   "source": [
    "res.params"
   ]
  },
  {
   "cell_type": "markdown",
   "id": "95554035",
   "metadata": {},
   "source": [
    "**Follwing features contribute (positively/ negatively) towards the probability of a lead getting converted:**\n",
    "\n",
    "\n",
    "- Do Not Email **(effects negatively)**                               \n",
    "- Total Time Spent on Website  **(effects positively)**                            \n",
    "- Specialization_Hospitality Management **(effects negatively)**               \n",
    "- What is your current occupation_Working Professional **(effects positively)**      \n",
    "- Lead Profile_Potential Lead  **(effects positively)**                              \n",
    "- Lead Profile_Student of SomeSchool  **(effects negatively)**                       \n",
    "- Lead Origin_Lead Add Form  **(effects positively)**                                 \n",
    "- TotalVisits_1-2_Visits  **(effects negatively)**                                 \n",
    "- TotalVisits_3-4_Visits  **(effects negatively)**                                 \n",
    "- Page Views Per Visit_5-6_Page_views_per_visit  **(effects negatively)**   "
   ]
  },
  {
   "cell_type": "code",
   "execution_count": null,
   "id": "9251a72e",
   "metadata": {},
   "outputs": [],
   "source": [
    "res.summary()"
   ]
  },
  {
   "cell_type": "markdown",
   "id": "bc088572",
   "metadata": {},
   "source": [
    "### Important features"
   ]
  },
  {
   "cell_type": "markdown",
   "id": "b6dc96e4",
   "metadata": {},
   "source": [
    "Important features responsible for good conversion rate are :\n",
    "- Lead Origin_Lead Add Form: if the lead has lead origin as Lead Add Form, he is more likely to convert.\n",
    "- What is your current occupation_Working Professional: if the lead is Working Professional, he is more likely to convert.\n",
    "- Lead Profile_Student of SomeSchool: if the lead profile is student of someSchool, he is least likely to convert.\n",
    "- Lead Profile_Potential Lead: if the lead profile is Potential Lead, he is more likely to convert."
   ]
  },
  {
   "cell_type": "code",
   "execution_count": null,
   "id": "3a764c02",
   "metadata": {},
   "outputs": [],
   "source": []
  }
 ],
 "metadata": {
  "kernelspec": {
   "display_name": "Python 3 (ipykernel)",
   "language": "python",
   "name": "python3"
  },
  "language_info": {
   "codemirror_mode": {
    "name": "ipython",
    "version": 3
   },
   "file_extension": ".py",
   "mimetype": "text/x-python",
   "name": "python",
   "nbconvert_exporter": "python",
   "pygments_lexer": "ipython3",
   "version": "3.9.12"
  }
 },
 "nbformat": 4,
 "nbformat_minor": 5
}
